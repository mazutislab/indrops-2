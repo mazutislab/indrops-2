{
 "cells": [
  {
   "cell_type": "markdown",
   "metadata": {},
   "source": [
    "# Decide on cell clusters to exclude - 2nd round of removal"
   ]
  },
  {
   "cell_type": "markdown",
   "metadata": {},
   "source": [
    "## Import statements"
   ]
  },
  {
   "cell_type": "code",
   "execution_count": 1,
   "metadata": {},
   "outputs": [],
   "source": [
    "import scanpy as sc\n",
    "import scanpy.external as sce\n",
    "#sc.logging.print_versions()\n",
    "#sc.logging.print_memory_usage()\n",
    "#sc.settings.verbosity = 2\n",
    "import os,sys\n",
    "import datetime\n",
    "import numpy as np\n",
    "import pandas as pd\n",
    "import matplotlib.pyplot as plt\n",
    "import math\n",
    "import matplotlib.ticker as mticker\n",
    "\n",
    "#not all are used, I am just transfering this cell from notebook to notebook"
   ]
  },
  {
   "cell_type": "code",
   "execution_count": 2,
   "metadata": {},
   "outputs": [
    {
     "name": "stdout",
     "output_type": "stream",
     "text": [
      "python version: 3.8.8\n"
     ]
    }
   ],
   "source": [
    "# add the utility function folder to PATH\n",
    "import sys\n",
    "sys.path.append(os.path.abspath(\"utility_functions/\"))\n",
    "\n",
    "from rz_import_statements import *\n",
    "import rz_functions as rz\n",
    "import rz_fig_params # this adjust mpl.rcParams, almost nothing to import, import after scanpy to overwrite rc.Params\n",
    "import rz_utility_spring as srz"
   ]
  },
  {
   "cell_type": "markdown",
   "metadata": {},
   "source": [
    "## Load per-cell metadata (obs)"
   ]
  },
  {
   "cell_type": "code",
   "execution_count": 3,
   "metadata": {},
   "outputs": [],
   "source": [
    "\n",
    "# overwrite obs with the most recent version\n",
    "filename = 'backups/obs_info_dblt1_20021x15_231001_17h34.npz'\n",
    "encoding = 'latin1'\n",
    "\n",
    "with np.load(filename,encoding=encoding, allow_pickle = True) as f:\n",
    "    obs = pd.DataFrame(**f)\n",
    "#adata.obs = obs"
   ]
  },
  {
   "cell_type": "code",
   "execution_count": 4,
   "metadata": {},
   "outputs": [
    {
     "data": {
      "text/plain": [
       "Index(['barcode', 'library', 'total_counts', 'pct_counts_mito', 'conditions',\n",
       "       'conditions2', 'preservation', 'method', 'doublet_score',\n",
       "       'potential_doublet', 'top3pct_dbtl_score', 'top5pct_dbtl_score',\n",
       "       'top10pct_dbtl_score', 'sp_cl_all_cells_w_dblts_spring_500',\n",
       "       'removed_as_dblt1'],\n",
       "      dtype='object')"
      ]
     },
     "execution_count": 4,
     "metadata": {},
     "output_type": "execute_result"
    }
   ],
   "source": [
    "obs.keys()"
   ]
  },
  {
   "cell_type": "markdown",
   "metadata": {},
   "source": [
    "## Load cluster labels directly from spring"
   ]
  },
  {
   "cell_type": "code",
   "execution_count": 5,
   "metadata": {},
   "outputs": [],
   "source": [
    "# load intermediates I saved when preparing the SPRING plot\n",
    "path1 = \"/Users/karolisgoda/Library/CloudStorage/GoogleDrive-karolisgoda@gmail.com/My Drive/MF/data/SPRING_dev-master/data/\" \n",
    "project_dir = path1+'CD34/'\n",
    "plot_name =  'all_cells_wo_dblt1_spring'\n",
    "\n",
    "# use only cell in the spring plot\n",
    "cell_ix = np.loadtxt(project_dir+plot_name+'/cell_filter.txt',dtype=int)"
   ]
  },
  {
   "cell_type": "code",
   "execution_count": 6,
   "metadata": {},
   "outputs": [
    {
     "data": {
      "text/plain": [
       "dict_keys(['conditions', 'conditions2', 'library', 'potential_doublet', 'preservation', 'removed_as_dblt1', 'sp_cl_all_cells_w_dblts_spring_500', 'sp_cl_all_cells_wo_dblt1_spring_500', 'top10pct_dbtl_score', 'top3pct_dbtl_score', 'top5pct_dbtl_score'])"
      ]
     },
     "execution_count": 6,
     "metadata": {},
     "output_type": "execute_result"
    }
   ],
   "source": [
    "# load current color dictionary\n",
    "cg0 = srz.read_cell_groupings(project_dir+plot_name+'/categorical_coloring_data.json')\n",
    "\n",
    "# drop the color dictionaries with are part of cell groupings\n",
    "cg0 = {key:value['label_list'] for key,value in cg0.items()}\n",
    "cg0.keys()"
   ]
  },
  {
   "cell_type": "code",
   "execution_count": 7,
   "metadata": {},
   "outputs": [
    {
     "data": {
      "text/plain": [
       "18088"
      ]
     },
     "execution_count": 7,
     "metadata": {},
     "output_type": "execute_result"
    }
   ],
   "source": [
    "len(cell_ix)"
   ]
  },
  {
   "cell_type": "markdown",
   "metadata": {},
   "source": [
    "## Make a dataframe with per-cell metadata with cluster and doublet info"
   ]
  },
  {
   "cell_type": "code",
   "execution_count": 8,
   "metadata": {},
   "outputs": [],
   "source": [
    "mask1 = obs['removed_as_dblt1'] == False\n",
    "mask = mask1\n",
    "cobs = obs[mask]"
   ]
  },
  {
   "cell_type": "code",
   "execution_count": 9,
   "metadata": {},
   "outputs": [
    {
     "data": {
      "text/html": [
       "<div>\n",
       "<style scoped>\n",
       "    .dataframe tbody tr th:only-of-type {\n",
       "        vertical-align: middle;\n",
       "    }\n",
       "\n",
       "    .dataframe tbody tr th {\n",
       "        vertical-align: top;\n",
       "    }\n",
       "\n",
       "    .dataframe thead th {\n",
       "        text-align: right;\n",
       "    }\n",
       "</style>\n",
       "<table border=\"1\" class=\"dataframe\">\n",
       "  <thead>\n",
       "    <tr style=\"text-align: right;\">\n",
       "      <th></th>\n",
       "      <th>doublet_score</th>\n",
       "      <th>top10pct_dbtl_score</th>\n",
       "    </tr>\n",
       "  </thead>\n",
       "  <tbody>\n",
       "    <tr>\n",
       "      <th>1239</th>\n",
       "      <td>0.018561</td>\n",
       "      <td>False</td>\n",
       "    </tr>\n",
       "    <tr>\n",
       "      <th>4688</th>\n",
       "      <td>0.040552</td>\n",
       "      <td>False</td>\n",
       "    </tr>\n",
       "    <tr>\n",
       "      <th>5713</th>\n",
       "      <td>0.035403</td>\n",
       "      <td>False</td>\n",
       "    </tr>\n",
       "    <tr>\n",
       "      <th>7475</th>\n",
       "      <td>0.024643</td>\n",
       "      <td>False</td>\n",
       "    </tr>\n",
       "    <tr>\n",
       "      <th>9116</th>\n",
       "      <td>0.065193</td>\n",
       "      <td>False</td>\n",
       "    </tr>\n",
       "    <tr>\n",
       "      <th>...</th>\n",
       "      <td>...</td>\n",
       "      <td>...</td>\n",
       "    </tr>\n",
       "    <tr>\n",
       "      <th>14031962</th>\n",
       "      <td>0.116617</td>\n",
       "      <td>False</td>\n",
       "    </tr>\n",
       "    <tr>\n",
       "      <th>14031983</th>\n",
       "      <td>0.059257</td>\n",
       "      <td>False</td>\n",
       "    </tr>\n",
       "    <tr>\n",
       "      <th>14032029</th>\n",
       "      <td>0.061522</td>\n",
       "      <td>False</td>\n",
       "    </tr>\n",
       "    <tr>\n",
       "      <th>14032043</th>\n",
       "      <td>0.074746</td>\n",
       "      <td>False</td>\n",
       "    </tr>\n",
       "    <tr>\n",
       "      <th>14032062</th>\n",
       "      <td>0.152704</td>\n",
       "      <td>False</td>\n",
       "    </tr>\n",
       "  </tbody>\n",
       "</table>\n",
       "<p>18088 rows × 2 columns</p>\n",
       "</div>"
      ],
      "text/plain": [
       "         doublet_score top10pct_dbtl_score\n",
       "1239          0.018561               False\n",
       "4688          0.040552               False\n",
       "5713          0.035403               False\n",
       "7475          0.024643               False\n",
       "9116          0.065193               False\n",
       "...                ...                 ...\n",
       "14031962      0.116617               False\n",
       "14031983      0.059257               False\n",
       "14032029      0.061522               False\n",
       "14032043      0.074746               False\n",
       "14032062      0.152704               False\n",
       "\n",
       "[18088 rows x 2 columns]"
      ]
     },
     "execution_count": 9,
     "metadata": {},
     "output_type": "execute_result"
    }
   ],
   "source": [
    "cobs[['doublet_score', 'top10pct_dbtl_score']]"
   ]
  },
  {
   "cell_type": "code",
   "execution_count": 10,
   "metadata": {},
   "outputs": [
    {
     "name": "stdout",
     "output_type": "stream",
     "text": [
      "(18088, 2)\n"
     ]
    }
   ],
   "source": [
    "# take doublet info from obs:\n",
    "o = cobs[['top10pct_dbtl_score','doublet_score']].astype(float).copy()\n",
    "print(o.shape)"
   ]
  },
  {
   "cell_type": "code",
   "execution_count": 11,
   "metadata": {},
   "outputs": [
    {
     "data": {
      "text/plain": [
       "18088"
      ]
     },
     "execution_count": 11,
     "metadata": {},
     "output_type": "execute_result"
    }
   ],
   "source": [
    "len(cg0['conditions'])"
   ]
  },
  {
   "cell_type": "code",
   "execution_count": 12,
   "metadata": {},
   "outputs": [],
   "source": [
    "o['sp_cl_all_cells_wo_dblt1_spring_500'] = cg0['sp_cl_all_cells_wo_dblt1_spring_500']"
   ]
  },
  {
   "cell_type": "code",
   "execution_count": 13,
   "metadata": {},
   "outputs": [
    {
     "data": {
      "text/html": [
       "<div>\n",
       "<style scoped>\n",
       "    .dataframe tbody tr th:only-of-type {\n",
       "        vertical-align: middle;\n",
       "    }\n",
       "\n",
       "    .dataframe tbody tr th {\n",
       "        vertical-align: top;\n",
       "    }\n",
       "\n",
       "    .dataframe thead th {\n",
       "        text-align: right;\n",
       "    }\n",
       "</style>\n",
       "<table border=\"1\" class=\"dataframe\">\n",
       "  <thead>\n",
       "    <tr style=\"text-align: right;\">\n",
       "      <th></th>\n",
       "      <th>top10pct_dbtl_score</th>\n",
       "      <th>doublet_score</th>\n",
       "      <th>sp_cl_all_cells_wo_dblt1_spring_500</th>\n",
       "    </tr>\n",
       "  </thead>\n",
       "  <tbody>\n",
       "    <tr>\n",
       "      <th>1239</th>\n",
       "      <td>0.0</td>\n",
       "      <td>0.018561</td>\n",
       "      <td>65</td>\n",
       "    </tr>\n",
       "    <tr>\n",
       "      <th>4688</th>\n",
       "      <td>0.0</td>\n",
       "      <td>0.040552</td>\n",
       "      <td>366</td>\n",
       "    </tr>\n",
       "    <tr>\n",
       "      <th>5713</th>\n",
       "      <td>0.0</td>\n",
       "      <td>0.035403</td>\n",
       "      <td>138</td>\n",
       "    </tr>\n",
       "  </tbody>\n",
       "</table>\n",
       "</div>"
      ],
      "text/plain": [
       "      top10pct_dbtl_score  doublet_score sp_cl_all_cells_wo_dblt1_spring_500\n",
       "1239                  0.0       0.018561                                  65\n",
       "4688                  0.0       0.040552                                 366\n",
       "5713                  0.0       0.035403                                 138"
      ]
     },
     "execution_count": 13,
     "metadata": {},
     "output_type": "execute_result"
    }
   ],
   "source": [
    "# choose cluster configuration\n",
    "# I chose here a detailed one (overclustered)\n",
    "\n",
    "label = 'sp_cl_all_cells_wo_dblt1_spring_500'\n",
    "#\n",
    "#o[label] = obs[label]\n",
    "\n",
    "o.head(3)"
   ]
  },
  {
   "cell_type": "code",
   "execution_count": 14,
   "metadata": {},
   "outputs": [
    {
     "data": {
      "text/html": [
       "<div>\n",
       "<style scoped>\n",
       "    .dataframe tbody tr th:only-of-type {\n",
       "        vertical-align: middle;\n",
       "    }\n",
       "\n",
       "    .dataframe tbody tr th {\n",
       "        vertical-align: top;\n",
       "    }\n",
       "\n",
       "    .dataframe thead th {\n",
       "        text-align: right;\n",
       "    }\n",
       "</style>\n",
       "<table border=\"1\" class=\"dataframe\">\n",
       "  <thead>\n",
       "    <tr style=\"text-align: right;\">\n",
       "      <th></th>\n",
       "      <th>count</th>\n",
       "      <th>nr_cell_in_top10_pct_dblt</th>\n",
       "      <th>mean_dbt_score</th>\n",
       "      <th>dblt_fraction</th>\n",
       "    </tr>\n",
       "    <tr>\n",
       "      <th>sp_cl_all_cells_wo_dblt1_spring_500</th>\n",
       "      <th></th>\n",
       "      <th></th>\n",
       "      <th></th>\n",
       "      <th></th>\n",
       "    </tr>\n",
       "  </thead>\n",
       "  <tbody>\n",
       "    <tr>\n",
       "      <th>0</th>\n",
       "      <td>43</td>\n",
       "      <td>1.0</td>\n",
       "      <td>0.072139</td>\n",
       "      <td>0.023256</td>\n",
       "    </tr>\n",
       "    <tr>\n",
       "      <th>1</th>\n",
       "      <td>25</td>\n",
       "      <td>0.0</td>\n",
       "      <td>0.023191</td>\n",
       "      <td>0.000000</td>\n",
       "    </tr>\n",
       "    <tr>\n",
       "      <th>10</th>\n",
       "      <td>44</td>\n",
       "      <td>7.0</td>\n",
       "      <td>0.115056</td>\n",
       "      <td>0.159091</td>\n",
       "    </tr>\n",
       "    <tr>\n",
       "      <th>100</th>\n",
       "      <td>47</td>\n",
       "      <td>1.0</td>\n",
       "      <td>0.048867</td>\n",
       "      <td>0.021277</td>\n",
       "    </tr>\n",
       "    <tr>\n",
       "      <th>101</th>\n",
       "      <td>36</td>\n",
       "      <td>0.0</td>\n",
       "      <td>0.070882</td>\n",
       "      <td>0.000000</td>\n",
       "    </tr>\n",
       "  </tbody>\n",
       "</table>\n",
       "</div>"
      ],
      "text/plain": [
       "                                     count  nr_cell_in_top10_pct_dblt  \\\n",
       "sp_cl_all_cells_wo_dblt1_spring_500                                     \n",
       "0                                       43                        1.0   \n",
       "1                                       25                        0.0   \n",
       "10                                      44                        7.0   \n",
       "100                                     47                        1.0   \n",
       "101                                     36                        0.0   \n",
       "\n",
       "                                     mean_dbt_score  dblt_fraction  \n",
       "sp_cl_all_cells_wo_dblt1_spring_500                                 \n",
       "0                                          0.072139       0.023256  \n",
       "1                                          0.023191       0.000000  \n",
       "10                                         0.115056       0.159091  \n",
       "100                                        0.048867       0.021277  \n",
       "101                                        0.070882       0.000000  "
      ]
     },
     "execution_count": 14,
     "metadata": {},
     "output_type": "execute_result"
    }
   ],
   "source": [
    "gb = o.groupby(label)\n",
    "smr = gb.aggregate({'top10pct_dbtl_score':['count','sum'],\n",
    "             'doublet_score':['mean']})\n",
    "\n",
    "smr.columns = smr.columns.droplevel()\n",
    "smr['dblt_fraction'] = smr['sum']/smr['count']\n",
    "\n",
    "renamer = {'sum':'nr_cell_in_top10_pct_dblt','mean':'mean_dbt_score'}\n",
    "smr.columns = [renamer[i] if i in renamer else i for i in smr.columns]\n",
    "\n",
    "smr.head()"
   ]
  },
  {
   "cell_type": "markdown",
   "metadata": {},
   "source": [
    "## Plot mean dblt score vs fraction potential dblt"
   ]
  },
  {
   "cell_type": "code",
   "execution_count": 16,
   "metadata": {},
   "outputs": [
    {
     "data": {
      "text/plain": [
       "<matplotlib.collections.PathCollection at 0x7fab192dabb0>"
      ]
     },
     "execution_count": 16,
     "metadata": {},
     "output_type": "execute_result"
    },
    {
     "data": {
      "image/png": "[encoded data removed]",
      "text/plain": [
       "<Figure size 787.402x787.402 with 1 Axes>"
      ]
     },
     "metadata": {
      "needs_background": "light"
     },
     "output_type": "display_data"
    }
   ],
   "source": [
    "mpl.rcParams['figure.figsize'] = (8,8)\n",
    "plt.rcParams.update({'font.size': 10})\n",
    "mpl.rcParams['figure.dpi']= 300\n",
    "a,fig,gs = rz.startfig(20,20)\n",
    "\n",
    "lab1 = 'mean_dbt_score'\n",
    "lab2 = 'dblt_fraction'\n",
    "\n",
    "x = smr[lab1]\n",
    "y = smr[lab2]\n",
    "\n",
    "a.set_xlabel(lab1)\n",
    "a.set_ylabel(lab2)\n",
    "\n",
    "# print labels for the top n clusters with highest average dblt score\n",
    "# and top n with highest fraction\n",
    "upto=30\n",
    "\n",
    "thetop = list(x.sort_values(ascending=False)[:upto].index)+\\\n",
    "         list(y.sort_values(ascending=False)[:upto].index)\n",
    "\n",
    "for i,j,txt in zip(x,y,x.index):\n",
    "    if txt in thetop:\n",
    "        a.text(i,j,txt)\n",
    "\n",
    "a.scatter(x,y,lw=0,c='0.5',alpha=0.5)\n",
    "#plt.savefig('prec_pca_louv_100_doublets.png')"
   ]
  },
  {
   "cell_type": "markdown",
   "metadata": {},
   "source": [
    "## Inspect interactively  \n",
    "In the interactive SPRING explorer (in browser), inspect whether clusters with high scores. convincingly look like doublets\n",
    "\n",
    "This includes taking into consideration:\n",
    "- large clusters are not expected to be doublets\n",
    "- is there unique gene expression in these clusters? Then they are not doublets.\n",
    "- can you tell from which real populations these clusters where made?"
   ]
  },
  {
   "cell_type": "code",
   "execution_count": 18,
   "metadata": {},
   "outputs": [],
   "source": [
    "doubcl = thetop\n"
   ]
  },
  {
   "cell_type": "code",
   "execution_count": 21,
   "metadata": {},
   "outputs": [],
   "source": [
    "# add the cluster configuration used to obs\n",
    "obs[label] = np.nan\n",
    "obs.loc[obs.index,[label]] = cg0[label]"
   ]
  },
  {
   "cell_type": "code",
   "execution_count": null,
   "metadata": {
    "tags": []
   },
   "outputs": [],
   "source": [
    "# append a colotrack saying \"removed_as_doublet\"\n",
    "obs['removed_as_dblt2'] = obs[label].isin(doubcl)\n",
    "print(obs['removed_as_dblt2'].unique())\n",
    "obs"
   ]
  },
  {
   "cell_type": "code",
   "execution_count": 23,
   "metadata": {},
   "outputs": [
    {
     "data": {
      "text/plain": [
       "1396"
      ]
     },
     "execution_count": 23,
     "metadata": {},
     "output_type": "execute_result"
    }
   ],
   "source": [
    "sum(obs['removed_as_dblt2'])"
   ]
  },
  {
   "cell_type": "markdown",
   "metadata": {},
   "source": [
    "## Add colotrack to spring"
   ]
  },
  {
   "cell_type": "code",
   "execution_count": 24,
   "metadata": {},
   "outputs": [],
   "source": [
    "# load current color dictionary\n",
    "cg_ = srz.read_cell_groupings(project_dir+plot_name+'/categorical_coloring_data.json')\n",
    "\n",
    "# color dictionary of dictionaries\n",
    "cdd = {key:value['label_colors'] for key,value in cg_.items()}\n",
    "\n",
    "cg = obs[[i for i in obs.columns if i.startswith(('removed_as'))]].astype(str).to_dict(orient='list')\n",
    "\n",
    "# append categorical colortrack\n",
    "srz.append_cell_groupings(project_dir+plot_name,cg,colordd=cdd)"
   ]
  },
  {
   "cell_type": "markdown",
   "metadata": {},
   "source": [
    "## Save obs"
   ]
  },
  {
   "cell_type": "code",
   "execution_count": 25,
   "metadata": {},
   "outputs": [
    {
     "name": "stdout",
     "output_type": "stream",
     "text": [
      "backups/obs_info_wo_dblt2_18088x17_231001_18h25\n"
     ]
    },
    {
     "name": "stderr",
     "output_type": "stream",
     "text": [
      "/opt/anaconda3/envs/sc/lib/python3.8/site-packages/numpy/lib/format.py:362: UserWarning: metadata on a dtype may be saved or ignored, but will raise if saved when read. Use another form of storage.\n",
      "  d['descr'] = dtype_to_descr(array.dtype)\n"
     ]
    }
   ],
   "source": [
    "# save the update obs dataframe\n",
    "# no need to save the entire adata object\n",
    "\n",
    "fname = 'backups/obs_info_wo_dblt2_%dx%d_%s'%(obs.shape[0],obs.shape[1],rz.now())\n",
    "print(fname)\n",
    "rz.save_df(obs,fname)"
   ]
  },
  {
   "cell_type": "code",
   "execution_count": null,
   "metadata": {},
   "outputs": [],
   "source": []
  }
 ],
 "metadata": {
  "kernelspec": {
   "display_name": "Python 3 (ipykernel)",
   "language": "python",
   "name": "python3"
  },
  "language_info": {
   "codemirror_mode": {
    "name": "ipython",
    "version": 3
   },
   "file_extension": ".py",
   "mimetype": "text/x-python",
   "name": "python",
   "nbconvert_exporter": "python",
   "pygments_lexer": "ipython3",
   "version": "3.11.7"
  },
  "toc": {
   "base_numbering": 1,
   "nav_menu": {},
   "number_sections": true,
   "sideBar": true,
   "skip_h1_title": true,
   "title_cell": "Table of Contents",
   "title_sidebar": "Contents",
   "toc_cell": false,
   "toc_position": {},
   "toc_section_display": true,
   "toc_window_display": true
  }
 },
 "nbformat": 4,
 "nbformat_minor": 4
}
