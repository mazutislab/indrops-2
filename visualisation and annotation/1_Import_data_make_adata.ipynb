{
 "cells": [
  {
   "cell_type": "code",
   "execution_count": 1,
   "id": "3e49c783",
   "metadata": {},
   "outputs": [],
   "source": [
    "import scanpy as sc\n",
    "import os,sys\n",
    "import datetime\n",
    "import numpy as np\n",
    "import pandas as pd\n",
    "import matplotlib.pyplot as plt\n",
    "import re\n",
    "import scipy"
   ]
  },
  {
   "cell_type": "code",
   "execution_count": 2,
   "id": "9ea205f5",
   "metadata": {},
   "outputs": [
    {
     "name": "stderr",
     "output_type": "stream",
     "text": [
      "/Users/karolisgoda/miniconda3/envs/sc/lib/python3.11/site-packages/tqdm/auto.py:21: TqdmWarning: IProgress not found. Please update jupyter and ipywidgets. See https://ipywidgets.readthedocs.io/en/stable/user_install.html\n",
      "  from .autonotebook import tqdm as notebook_tqdm\n"
     ]
    },
    {
     "name": "stdout",
     "output_type": "stream",
     "text": [
      "scanpy==1.7.2 anndata==0.10.3 umap==0.5.5 numpy==1.26.2 scipy==1.11.4 pandas==1.5.3 scikit-learn==1.3.2 statsmodels==0.14.1 python-igraph==0.10.8\n"
     ]
    }
   ],
   "source": [
    "sc.logging.print_header()"
   ]
  },
  {
   "cell_type": "markdown",
   "id": "92141267",
   "metadata": {},
   "source": [
    "## Importing data "
   ]
  },
  {
   "cell_type": "code",
   "execution_count": 3,
   "id": "07fc6921",
   "metadata": {},
   "outputs": [],
   "source": [
    "#function of current time to add to filenames\n",
    "def now():\n",
    "    return datetime.datetime.now().strftime('%y%m%d_%Hh%M')"
   ]
  },
  {
   "cell_type": "code",
   "execution_count": 4,
   "id": "740254d6",
   "metadata": {},
   "outputs": [],
   "source": [
    "#a list of paths where the data is stored. CD34+ data is used as an example.\n",
    "path_list =[\n",
    "'/Users/karolisgoda/Desktop/cluster/CD34/CD34-04/GeneFull/raw',\n",
    "'/Users/karolisgoda/Desktop/cluster/CD34/CD34-01/GeneFull/raw',\n",
    "'/Users/karolisgoda/Desktop/cluster/CD34/CD34-02/GeneFull/raw',\n",
    "'/Users/karolisgoda/Desktop/cluster/CD34/CD34-05/GeneFull/raw',\n",
    "'/Users/karolisgoda/Desktop/cluster/CD34/CD34-03/GeneFull/raw'\n",
    "]\n"
   ]
  },
  {
   "cell_type": "code",
   "execution_count": 5,
   "id": "9d523a43",
   "metadata": {},
   "outputs": [
    {
     "name": "stdout",
     "output_type": "stream",
     "text": [
      "backups/raw_6794880x37733_CD34-04_240131_16h54.h5ad\n",
      "CD34-04 (6794880, 37733)\n",
      "backups/raw_147456x37733_CD34-01_240131_16h56.h5ad\n",
      "CD34-01 (147456, 37733)\n",
      "backups/raw_147456x37733_CD34-02_240131_16h58.h5ad\n",
      "CD34-02 (147456, 37733)\n",
      "backups/raw_6794880x37733_CD34-05_240131_17h05.h5ad\n",
      "CD34-05 (6794880, 37733)\n",
      "backups/raw_147456x37733_CD34-03_240131_17h08.h5ad\n",
      "CD34-03 (147456, 37733)\n"
     ]
    }
   ],
   "source": [
    "#backup directory\n",
    "!mkdir -p backups\n",
    "\n",
    "#making dict of adatas where key is library name and value is adata object\n",
    "#this is not necessary and could be replaced with a list\n",
    "\n",
    "dic_ad = {}\n",
    "\n",
    "#loading data\n",
    "for path in path_list:\n",
    "    \n",
    "    #force slach at the end\n",
    "    if path[-1] != '/':\n",
    "        path = path + '/'\n",
    "    \n",
    "    #extract_library name\n",
    "    parsed = path.split('/')\n",
    "    name = parsed[-4]\n",
    "\n",
    "    # load to AnnData\n",
    "    adata = sc.read(path  + 'matrix.mtx', cache=False)\n",
    "    adata = adata.T\n",
    "    adata.var_names = pd.read_csv(path + 'features.tsv', header = None, sep='\\t' )[1]\n",
    "    adata.obs_names = pd.read_csv(path + 'barcodes.tsv',  header = None)[0]\n",
    "    adata.var_names_make_unique()\n",
    "    \n",
    "    # add library to obs\n",
    "    adata.obs['library'] = name\n",
    "    \n",
    "    #save unfiltered adata objects\n",
    "    fname1 = 'backups/raw_%dx%d_%s_%s.h5ad'%(adata.shape[0],adata.shape[1], name, now())\n",
    "    print(fname1)\n",
    "    #adata.write(fname1)\n",
    "    \n",
    "    \n",
    "    # add to dict\n",
    "    print(name, adata.shape)\n",
    "    dic_ad[name] = adata\n",
    "            "
   ]
  },
  {
   "cell_type": "code",
   "execution_count": 8,
   "id": "6d3dd5db",
   "metadata": {},
   "outputs": [
    {
     "data": {
      "text/plain": [
       "AnnData object with n_obs × n_vars = 6794880 × 37733\n",
       "    obs: 'library'"
      ]
     },
     "execution_count": 8,
     "metadata": {},
     "output_type": "execute_result"
    }
   ],
   "source": [
    "#create list of anndatas\n",
    "lad=list(dic_ad.values()) \n",
    "\n",
    "lad[0]"
   ]
  },
  {
   "cell_type": "code",
   "execution_count": 9,
   "id": "89493fe3",
   "metadata": {},
   "outputs": [
    {
     "name": "stdout",
     "output_type": "stream",
     "text": [
      "True\n",
      "True\n"
     ]
    }
   ],
   "source": [
    "# gene names must be the same for all libraries, but double-check\n",
    "v0 = lad[0].var_names\n",
    "print(np.prod([np.prod(v0==i.var_names) for i in lad]).astype(bool))\n",
    "\n",
    "# also check that gene names are unique:\n",
    "print(len(v0)==len(set(v0)))\n"
   ]
  },
  {
   "cell_type": "code",
   "execution_count": 10,
   "id": "b2f35634",
   "metadata": {},
   "outputs": [
    {
     "name": "stdout",
     "output_type": "stream",
     "text": [
      "(14032128, 37733)\n"
     ]
    }
   ],
   "source": [
    "#concatenate manually, since sc.AnnData.concatenate() can only take 14 arguments\n",
    "\n",
    "Xcat = scipy.sparse.vstack([i.X for i in lad])\n",
    "obscat = pd.concat([i.obs for i in lad])\n",
    "varnames = lad[0].var_names\n",
    "\n",
    "\n",
    "adata = sc.AnnData(Xcat) \n",
    "adata.obs = obscat\n",
    "adata.var_names = varnames\n",
    "\n",
    "# index\n",
    "adata.obs_names = np.arange(adata.shape[0]).astype(str)\n",
    "\n",
    "\n",
    "print(adata.shape)"
   ]
  },
  {
   "cell_type": "code",
   "execution_count": 11,
   "id": "fbaafa60",
   "metadata": {},
   "outputs": [
    {
     "name": "stdout",
     "output_type": "stream",
     "text": [
      "backups/concatenated_raw_14032128x37733_230831_12h13.h5ad\n"
     ]
    },
    {
     "name": "stderr",
     "output_type": "stream",
     "text": [
      "/opt/anaconda3/envs/sc/lib/python3.8/site-packages/anndata/_core/anndata.py:1220: FutureWarning: The `inplace` parameter in pandas.Categorical.reorder_categories is deprecated and will be removed in a future version. Reordering categories will always return a new Categorical object.\n",
      "  c.reorder_categories(natsorted(c.categories), inplace=True)\n",
      "... storing 'library' as categorical\n"
     ]
    }
   ],
   "source": [
    "#save the huge file for later pre-processing\n",
    "fname = 'backups/concatenated_raw_%dx%d_%s.h5ad'%(adata.shape[0],adata.shape[1], now())\n",
    "print(fname)\n",
    "adata.write(fname)                                                                "
   ]
  },
  {
   "cell_type": "code",
   "execution_count": null,
   "id": "332ec0b8-c157-43c7-bf7f-8ff03a2b921a",
   "metadata": {},
   "outputs": [],
   "source": []
  }
 ],
 "metadata": {
  "kernelspec": {
   "display_name": "Python 3 (ipykernel)",
   "language": "python",
   "name": "python3"
  },
  "language_info": {
   "codemirror_mode": {
    "name": "ipython",
    "version": 3
   },
   "file_extension": ".py",
   "mimetype": "text/x-python",
   "name": "python",
   "nbconvert_exporter": "python",
   "pygments_lexer": "ipython3",
   "version": "3.11.7"
  }
 },
 "nbformat": 4,
 "nbformat_minor": 5
}
