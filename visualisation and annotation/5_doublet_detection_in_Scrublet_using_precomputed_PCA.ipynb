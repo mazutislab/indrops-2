{
 "cells": [
  {
   "cell_type": "markdown",
   "metadata": {},
   "source": [
    "# Calculate doublet scores for each cell using Scrublet"
   ]
  },
  {
   "cell_type": "markdown",
   "metadata": {},
   "source": [
    "## Import statements"
   ]
  },
  {
   "cell_type": "code",
   "execution_count": 1,
   "metadata": {},
   "outputs": [],
   "source": [
    "import scanpy as sc\n",
    "import scanpy.external as sce\n",
    "#sc.logging.print_versions()\n",
    "#sc.logging.print_memory_usage()\n",
    "#sc.settings.verbosity = 2\n",
    "import os,sys\n",
    "import datetime\n",
    "import numpy as np\n",
    "import pandas as pd\n",
    "import matplotlib.pyplot as plt\n",
    "import math\n",
    "import matplotlib.ticker as mticker"
   ]
  },
  {
   "cell_type": "code",
   "execution_count": 2,
   "metadata": {},
   "outputs": [],
   "source": [
    "#import scrublet\n",
    "import scrublet as scr"
   ]
  },
  {
   "cell_type": "code",
   "execution_count": 3,
   "metadata": {},
   "outputs": [
    {
     "name": "stdout",
     "output_type": "stream",
     "text": [
      "python version: 3.8.8\n"
     ]
    }
   ],
   "source": [
    "# add the utility function folder to PATH\n",
    "sys.path.append(os.path.abspath(\"utility_functions\"))\n",
    "\n",
    "from rz_import_statements import *\n",
    "import rz_functions as rz\n",
    "import rz_fig_params # this adjust mpl.rcParams, almost nothing to import, import after scanpy to overwrite rc.Params\n",
    "import rz_utility_spring as srz"
   ]
  },
  {
   "cell_type": "markdown",
   "metadata": {},
   "source": [
    "# Load data"
   ]
  },
  {
   "cell_type": "code",
   "execution_count": 4,
   "metadata": {},
   "outputs": [],
   "source": [
    "adata = sc.read_h5ad('backups/all_cells_w_dblts_batch_corrected_20021x3000_230928_15h56.h5ad') \n",
    "# overwrite obs with the most recent version\n",
    "filename = 'backups/obs_info_technical_20021x8_230928_14h20.npz'\n",
    "encoding = 'latin1'\n",
    "\n",
    "with np.load(filename,encoding=encoding, allow_pickle = True) as f:\n",
    "    obs = pd.DataFrame(**f)\n",
    "adata.obs = obs"
   ]
  },
  {
   "cell_type": "markdown",
   "metadata": {},
   "source": [
    "\n",
    "## Load details on the latest SPRING plot  \n",
    "In general, this is not necessary to run Scrublet.  "
   ]
  },
  {
   "cell_type": "code",
   "execution_count": 5,
   "metadata": {},
   "outputs": [
    {
     "data": {
      "text/plain": [
       "dict_keys(['k', 'cell_mask', 'min_counts', 'min_cells', 'base_ix', 'num_pc', 'plot_name', 'embedding', 'gene_names_excluded', 'abundant_gene_mask', 'v_score_dict', 'nr_var_genes', 'genes_used', 'eigenvectors', 'eigenvalues', 'neighbors_fa', 'neighbors_umap', 'min_dist'])"
      ]
     },
     "execution_count": 5,
     "metadata": {},
     "output_type": "execute_result"
    }
   ],
   "source": [
    "# load intermediates I saved when preparing the SPRING plot\n",
    "path1 = \"/Users/karolisgoda/Library/CloudStorage/GoogleDrive-karolisgoda@gmail.com/My Drive/MF/data/SPRING_dev-master/data/\" \n",
    "project_dir = path1+'CD34/'\n",
    "plot_name =  'all_cells_w_dblts_spring'\n",
    "\n",
    "\n",
    "params = rz.load_stuff(project_dir+plot_name+'/params.pickle')\n",
    "params.keys()"
   ]
  },
  {
   "cell_type": "code",
   "execution_count": 6,
   "metadata": {},
   "outputs": [
    {
     "data": {
      "text/plain": [
       "matrix([[22260.],\n",
       "        [ 8560.],\n",
       "        [19847.],\n",
       "        [10175.],\n",
       "        [ 7250.]], dtype=float32)"
      ]
     },
     "execution_count": 6,
     "metadata": {},
     "output_type": "execute_result"
    }
   ],
   "source": [
    "# make sure the data is unnormalized, should sum to different total counts (and round numbers)\n",
    "adata.raw.X[:5,:].sum(axis=1)"
   ]
  },
  {
   "cell_type": "code",
   "execution_count": 7,
   "metadata": {},
   "outputs": [
    {
     "data": {
      "text/plain": [
       "(41, 3000)"
      ]
     },
     "execution_count": 7,
     "metadata": {},
     "output_type": "execute_result"
    }
   ],
   "source": [
    "P = params['eigenvectors'][:params['num_pc'],:] #the P is the same for fa2 and umap representations\n",
    "P.shape"
   ]
  },
  {
   "cell_type": "code",
   "execution_count": 8,
   "metadata": {},
   "outputs": [],
   "source": [
    "bdata = adata.raw.to_adata() #it is not necessary here to create a new variable"
   ]
  },
  {
   "cell_type": "code",
   "execution_count": 9,
   "metadata": {},
   "outputs": [
    {
     "data": {
      "text/plain": [
       "AnnData object with n_obs × n_vars = 20021 × 37733\n",
       "    obs: 'barcode', 'library', 'total_counts', 'pct_counts_mito', 'conditions', 'conditions2', 'preservation', 'method'\n",
       "    uns: 'X_lin_cptt', 'X_log_z', 'conditions2_colors', 'conditions_colors', 'draw_graph', 'method_colors', 'neighbors', 'pca', 'preservation_colors', 'umap'\n",
       "    obsm: 'X_draw_graph_fa', 'X_pca', 'X_pca_harmony', 'X_umap'"
      ]
     },
     "execution_count": 9,
     "metadata": {},
     "output_type": "execute_result"
    }
   ],
   "source": [
    "bdata"
   ]
  },
  {
   "cell_type": "code",
   "execution_count": 10,
   "metadata": {},
   "outputs": [
    {
     "name": "stdout",
     "output_type": "stream",
     "text": [
      "3000 37733\n",
      "20021 20021\n"
     ]
    },
    {
     "data": {
      "text/plain": [
       "matrix([[10000.   ],\n",
       "        [10000.   ],\n",
       "        [10000.001],\n",
       "        ...,\n",
       "        [10000.   ],\n",
       "        [10000.001],\n",
       "        [ 9999.999]], dtype=float32)"
      ]
     },
     "execution_count": 10,
     "metadata": {},
     "output_type": "execute_result"
    }
   ],
   "source": [
    "\n",
    "# prepare  variables to plug into scrublet\n",
    "gene_mask = np.in1d(bdata.var_names,params['genes_used'])\n",
    "cell_mask = params['cell_mask'].astype(bool)\n",
    "n_counts = np.array(adata[cell_mask,:].raw.X.sum(axis=1).T)[0]\n",
    "\n",
    "P = params['eigenvectors'][:params['num_pc'],:] #eigenvector\n",
    "print(gene_mask.sum(),len(gene_mask))\n",
    "print(cell_mask.sum(),len(cell_mask))\n",
    "postnorm_total = 1e4\n",
    "\n",
    "X = bdata[cell_mask].X\n",
    "X_norm = sc.pp.normalize_per_cell(bdata[cell_mask],counts_per_cell_after=postnorm_total,copy=True).X\n",
    "subobs = adata.obs[cell_mask]\n",
    "X_norm.sum(axis=1)"
   ]
  },
  {
   "cell_type": "code",
   "execution_count": 11,
   "metadata": {},
   "outputs": [],
   "source": [
    "gene_means = X_norm[:,gene_mask].mean(0).A.squeeze()\n",
    "gene_stdevs = np.sqrt(scr.sparse_var(X_norm[:, gene_mask]))"
   ]
  },
  {
   "cell_type": "code",
   "execution_count": 12,
   "metadata": {},
   "outputs": [
    {
     "name": "stdout",
     "output_type": "stream",
     "text": [
      "(41, 3000) 3000\n"
     ]
    }
   ],
   "source": [
    "# double-check the shapes\n",
    "print(P.shape,len(gene_means))"
   ]
  },
  {
   "cell_type": "markdown",
   "metadata": {},
   "source": [
    "## Calculate doublet scores"
   ]
  },
  {
   "cell_type": "markdown",
   "metadata": {},
   "source": [
    "### Decide on which cells to treat collectively"
   ]
  },
  {
   "cell_type": "code",
   "execution_count": 13,
   "metadata": {},
   "outputs": [
    {
     "data": {
      "text/plain": [
       "array(['10X fresh', 'InDrop2 fresh 1', 'InDrop2 fresh 2', '10X fixed',\n",
       "       'InDrop2 fixed'], dtype=object)"
      ]
     },
     "execution_count": 13,
     "metadata": {},
     "output_type": "execute_result"
    }
   ],
   "source": [
    "# doublet can only be made of real cells present in the same cell suspension being injected into\n",
    "# a scRNAseq device.\n",
    "# therefore, it makes sense to run the doublet detector on each separate cell suspension (in other words,\n",
    "# for each emulsion)\n",
    "# also, the doublet rate can be different between samples.\n",
    "\n",
    "splitby = 'conditions'\n",
    "subobs[splitby].unique()"
   ]
  },
  {
   "cell_type": "code",
   "execution_count": 14,
   "metadata": {
    "scrolled": true
   },
   "outputs": [
    {
     "data": {
      "text/html": [
       "<div>\n",
       "<style scoped>\n",
       "    .dataframe tbody tr th:only-of-type {\n",
       "        vertical-align: middle;\n",
       "    }\n",
       "\n",
       "    .dataframe tbody tr th {\n",
       "        vertical-align: top;\n",
       "    }\n",
       "\n",
       "    .dataframe thead th {\n",
       "        text-align: right;\n",
       "    }\n",
       "</style>\n",
       "<table border=\"1\" class=\"dataframe\">\n",
       "  <thead>\n",
       "    <tr style=\"text-align: right;\">\n",
       "      <th></th>\n",
       "      <th>barcode</th>\n",
       "    </tr>\n",
       "    <tr>\n",
       "      <th>conditions</th>\n",
       "      <th></th>\n",
       "    </tr>\n",
       "  </thead>\n",
       "  <tbody>\n",
       "    <tr>\n",
       "      <th>10X fixed</th>\n",
       "      <td>9185</td>\n",
       "    </tr>\n",
       "    <tr>\n",
       "      <th>10X fresh</th>\n",
       "      <td>3124</td>\n",
       "    </tr>\n",
       "    <tr>\n",
       "      <th>InDrop2 fixed</th>\n",
       "      <td>5463</td>\n",
       "    </tr>\n",
       "    <tr>\n",
       "      <th>InDrop2 fresh 1</th>\n",
       "      <td>1104</td>\n",
       "    </tr>\n",
       "    <tr>\n",
       "      <th>InDrop2 fresh 2</th>\n",
       "      <td>1145</td>\n",
       "    </tr>\n",
       "  </tbody>\n",
       "</table>\n",
       "</div>"
      ],
      "text/plain": [
       "                 barcode\n",
       "conditions              \n",
       "10X fixed           9185\n",
       "10X fresh           3124\n",
       "InDrop2 fixed       5463\n",
       "InDrop2 fresh 1     1104\n",
       "InDrop2 fresh 2     1145"
      ]
     },
     "execution_count": 14,
     "metadata": {},
     "output_type": "execute_result"
    }
   ],
   "source": [
    "subobs.groupby([splitby]).count().dropna().iloc[:,:1]"
   ]
  },
  {
   "cell_type": "markdown",
   "metadata": {},
   "source": [
    "### Run Scrubet on each emulsion separately  \n",
    "By design, doublets cannot form between emulsions  "
   ]
  },
  {
   "cell_type": "code",
   "execution_count": 15,
   "metadata": {},
   "outputs": [
    {
     "name": "stdout",
     "output_type": "stream",
     "text": [
      "10X fresh\n",
      "Automatically set threshold at doublet score = 0.52\n",
      "Detected doublet rate = 0.2%\n",
      "Estimated detectable doublet fraction = 13.6%\n",
      "Overall doublet rate:\n",
      "\tExpected   = 6.0%\n",
      "\tEstimated  = 1.7%\n",
      "InDrop2 fresh 1\n",
      "Automatically set threshold at doublet score = 0.40\n",
      "Detected doublet rate = 1.0%\n",
      "Estimated detectable doublet fraction = 16.2%\n",
      "Overall doublet rate:\n",
      "\tExpected   = 6.0%\n",
      "\tEstimated  = 6.2%\n",
      "InDrop2 fresh 2\n",
      "Automatically set threshold at doublet score = 0.40\n",
      "Detected doublet rate = 1.4%\n",
      "Estimated detectable doublet fraction = 18.5%\n",
      "Overall doublet rate:\n",
      "\tExpected   = 6.0%\n",
      "\tEstimated  = 7.5%\n",
      "10X fixed\n",
      "Automatically set threshold at doublet score = 0.34\n",
      "Detected doublet rate = 1.4%\n",
      "Estimated detectable doublet fraction = 24.6%\n",
      "Overall doublet rate:\n",
      "\tExpected   = 6.0%\n",
      "\tEstimated  = 5.7%\n",
      "InDrop2 fixed\n",
      "Automatically set threshold at doublet score = 0.60\n",
      "Detected doublet rate = 0.2%\n",
      "Estimated detectable doublet fraction = 2.7%\n",
      "Overall doublet rate:\n",
      "\tExpected   = 6.0%\n",
      "\tEstimated  = 8.2%\n"
     ]
    }
   ],
   "source": [
    "# I want to apply the same principal component transformation to all emulsions but allow\n",
    "# simulated doublets only within the same emulsion\n",
    "\n",
    "# This is \n",
    "\n",
    "scrub_dict = {}\n",
    "doub_score_dict = {}\n",
    "predict_doub_dict = {}\n",
    "\n",
    "for emulsion in adata.obs[cell_mask][splitby].unique():\n",
    "    cmask = (adata.obs[cell_mask][splitby] == emulsion).values\n",
    "    \n",
    "    print(emulsion)\n",
    "    \n",
    "    # select the expression data:\n",
    "    E = X[cmask,:][:,gene_mask]\n",
    "    \n",
    "    # initiate the scrub object\n",
    "    scrub = scr.Scrublet(E, total_counts=n_counts[cmask], expected_doublet_rate=0.06)\n",
    "     \n",
    "    # Simulate doublets\n",
    "    scrub.simulate_doublets()\n",
    "    \n",
    "    # Total counts normalize\n",
    "    scrub._E_obs_norm = scr.tot_counts_norm(scrub._E_obs, total_counts=n_counts[cmask], target_total=postnorm_total)\n",
    "    scrub._E_sim_norm = scr.tot_counts_norm(scrub._E_sim, total_counts=scrub._total_counts_sim, target_total=postnorm_total)\n",
    "    \n",
    "    # Z-score using previously calculated gene means and standard deviations. Same way as for original spring plot.\n",
    "    scrub._E_obs_norm = np.array(scr.sparse_zscore(scrub._E_obs_norm, gene_means, gene_stdevs))\n",
    "    scrub._E_sim_norm = np.array(scr.sparse_zscore(scrub._E_sim_norm, gene_means, gene_stdevs))\n",
    "    \n",
    "    # Transform simulated doublets into same PCA space as the observed cells\n",
    "    pca_obs = P.dot(scrub._E_obs_norm.T).T\n",
    "    pca_sim = P.dot(scrub._E_sim_norm.T).T\n",
    "    \n",
    "    # Set the \"manifold\", i.e. the space in which the knn graph will be constructed\n",
    "    scrub.set_manifold(pca_obs, pca_sim)\n",
    "    \n",
    "    # Calculate doublet scores and call doublets as usual\n",
    "    doublet_scores = scrub.calculate_doublet_scores()\n",
    "    predicted_doublets = scrub.call_doublets()\n",
    "    \n",
    "    # store results\n",
    "    scrub_dict[emulsion] = scrub\n",
    "    doub_score_dict[emulsion] = doublet_scores\n",
    "    predict_doub_dict[emulsion] = predicted_doublets"
   ]
  },
  {
   "cell_type": "markdown",
   "metadata": {},
   "source": [
    "## Check doublet histograms"
   ]
  },
  {
   "cell_type": "code",
   "execution_count": 16,
   "metadata": {},
   "outputs": [
    {
     "name": "stdout",
     "output_type": "stream",
     "text": [
      "10X fresh 0.5181815903159012\n",
      "InDrop2 fresh 1 0.3988716165337025\n",
      "InDrop2 fresh 2 0.39961725291566996\n",
      "10X fixed 0.34291739361986295\n",
      "InDrop2 fixed 0.5993051925476085\n"
     ]
    }
   ],
   "source": [
    "# print the automatically determined threshold:\n",
    "for key,value in scrub_dict.items():\n",
    "    print(key,value.threshold_)"
   ]
  },
  {
   "cell_type": "code",
   "execution_count": 17,
   "metadata": {},
   "outputs": [
    {
     "name": "stdout",
     "output_type": "stream",
     "text": [
      "10X fresh 3124\n",
      "predicted doublet percentage 0.22407170294494239\n"
     ]
    },
    {
     "data": {
      "image/png": "[encoded data removed]",
      "text/plain": [
       "<Figure size 576x216 with 2 Axes>"
      ]
     },
     "metadata": {
      "needs_background": "light"
     },
     "output_type": "display_data"
    },
    {
     "name": "stdout",
     "output_type": "stream",
     "text": [
      "\n",
      "InDrop2 fresh 1 1104\n",
      "predicted doublet percentage 0.9963768115942028\n"
     ]
    },
    {
     "data": {
      "text/plain": [
       "<Figure size 432x288 with 0 Axes>"
      ]
     },
     "metadata": {},
     "output_type": "display_data"
    },
    {
     "data": {
      "image/png": "[encoded data removed]",
      "text/plain": [
       "<Figure size 576x216 with 2 Axes>"
      ]
     },
     "metadata": {
      "needs_background": "light"
     },
     "output_type": "display_data"
    },
    {
     "name": "stdout",
     "output_type": "stream",
     "text": [
      "\n",
      "InDrop2 fresh 2 1145\n",
      "predicted doublet percentage 1.3973799126637554\n"
     ]
    },
    {
     "data": {
      "text/plain": [
       "<Figure size 432x288 with 0 Axes>"
      ]
     },
     "metadata": {},
     "output_type": "display_data"
    },
    {
     "data": {
      "image/png": "[encoded data removed]",
      "text/plain": [
       "<Figure size 576x216 with 2 Axes>"
      ]
     },
     "metadata": {
      "needs_background": "light"
     },
     "output_type": "display_data"
    },
    {
     "name": "stdout",
     "output_type": "stream",
     "text": [
      "\n",
      "10X fixed 9185\n",
      "predicted doublet percentage 1.3935764833968427\n"
     ]
    },
    {
     "data": {
      "text/plain": [
       "<Figure size 432x288 with 0 Axes>"
      ]
     },
     "metadata": {},
     "output_type": "display_data"
    },
    {
     "data": {
      "image/png": "[encoded data removed]",
      "text/plain": [
       "<Figure size 576x216 with 2 Axes>"
      ]
     },
     "metadata": {
      "needs_background": "light"
     },
     "output_type": "display_data"
    },
    {
     "name": "stdout",
     "output_type": "stream",
     "text": [
      "\n",
      "InDrop2 fixed 5463\n",
      "predicted doublet percentage 0.21965952773201539\n"
     ]
    },
    {
     "data": {
      "text/plain": [
       "<Figure size 432x288 with 0 Axes>"
      ]
     },
     "metadata": {},
     "output_type": "display_data"
    },
    {
     "data": {
      "image/png": "[encoded data removed]",
      "text/plain": [
       "<Figure size 576x216 with 2 Axes>"
      ]
     },
     "metadata": {
      "needs_background": "light"
     },
     "output_type": "display_data"
    },
    {
     "name": "stdout",
     "output_type": "stream",
     "text": [
      "\n"
     ]
    },
    {
     "data": {
      "text/plain": [
       "<Figure size 432x288 with 0 Axes>"
      ]
     },
     "metadata": {},
     "output_type": "display_data"
    }
   ],
   "source": [
    "for emulsion, scrub in scrub_dict.items():\n",
    "    print(emulsion,(adata.obs[splitby] == emulsion).sum())\n",
    "    dmask = predict_doub_dict[emulsion]\n",
    "    print('predicted doublet percentage',dmask.sum()/len(dmask)*100.)\n",
    "    scrub.plot_histogram();\n",
    "    plt.show()\n",
    "    plt.savefig('figures/%s_v0_doublet_scores_prec_pca.pdf'%emulsion)\n",
    "    print()"
   ]
  },
  {
   "cell_type": "markdown",
   "metadata": {},
   "source": [
    "## Add results to adata.obs"
   ]
  },
  {
   "cell_type": "code",
   "execution_count": 18,
   "metadata": {},
   "outputs": [],
   "source": [
    "obs = adata.obs.copy()\n",
    "\n",
    "# add the results to obs\n",
    "obs['doublet_score'] = np.nan\n",
    "obs['potential_doublet'] = np.nan\n",
    "\n",
    "for key,value in doub_score_dict.items():\n",
    "    cmask = (obs[splitby] == key).values\n",
    "    \n",
    "    obs.loc[cmask&cell_mask,'doublet_score'] = value\n",
    "    obs.loc[cmask&cell_mask,'potential_doublet'] = predict_doub_dict[key]\n",
    "    \n",
    "    # also add another colortrack: within the x% with highest doublet score\n",
    "    for i in [3,5,10]:   \n",
    "        obs.loc[cmask&cell_mask,'top%dpct_dbtl_score'%i] = \\\n",
    "        obs.loc[cmask&cell_mask,'doublet_score']>=obs.loc[cmask,'doublet_score'].quantile(1.-float(i)/100.)"
   ]
  },
  {
   "cell_type": "markdown",
   "metadata": {},
   "source": [
    "## Save obs only"
   ]
  },
  {
   "cell_type": "code",
   "execution_count": 23,
   "metadata": {},
   "outputs": [
    {
     "name": "stdout",
     "output_type": "stream",
     "text": [
      "backups/obs_info_scrub_20021x13_230928_16h03\n"
     ]
    },
    {
     "name": "stderr",
     "output_type": "stream",
     "text": [
      "/opt/anaconda3/envs/sc/lib/python3.8/site-packages/numpy/lib/format.py:362: UserWarning: metadata on a dtype may be saved or ignored, but will raise if saved when read. Use another form of storage.\n",
      "  d['descr'] = dtype_to_descr(array.dtype)\n"
     ]
    }
   ],
   "source": [
    "# save the update obs dataframe\n",
    "# no need to save the entire adata object, counts didn't change\n",
    "\n",
    "fname = 'backups/obs_info_scrub_%dx%d_%s'%(obs.shape[0],obs.shape[1],rz.now())\n",
    "print(fname)\n",
    "rz.save_df(obs,fname)"
   ]
  },
  {
   "cell_type": "markdown",
   "metadata": {},
   "source": [
    "## Optional: add colotrack to SPRING"
   ]
  },
  {
   "cell_type": "code",
   "execution_count": 24,
   "metadata": {},
   "outputs": [],
   "source": [
    "# path was specified earlier\n",
    "\n",
    "# select to append:\n",
    "toappend = ['potential_doublet',\n",
    "            'top3pct_dbtl_score','top5pct_dbtl_score','top10pct_dbtl_score']\n",
    "\n",
    "toappend_cont = ['doublet_score']\n",
    "\n",
    "# color dictionary\n",
    "cdd = srz.read_cell_groupings(project_dir+plot_name+'/categorical_coloring_data.json')\n",
    "cdd = {key:value['label_colors'] for key,value in cdd.items()}\n",
    "\n",
    "# get cell filter:\n",
    "cell_ix = np.loadtxt(project_dir+plot_name+'/cell_filter.txt',dtype=int)\n",
    "\n",
    "# prepare cell groupings dictionary (discrete)\n",
    "cg = obs.iloc[cell_ix][toappend].astype(str).to_dict(orient='list')\n",
    "\n",
    "# prepare numerical\n",
    "ctracks = obs[cell_mask][toappend_cont].fillna(0).astype(float).to_dict(orient='list')\n",
    "\n",
    "# append categorical\n",
    "srz.append_cell_groupings(project_dir+plot_name,cg,colordd=cdd)\n",
    "# append numerical\n",
    "srz.append_color_tracks(ctracks,project_dir+plot_name,backup=True)"
   ]
  },
  {
   "cell_type": "code",
   "execution_count": 25,
   "metadata": {},
   "outputs": [],
   "source": [
    "plot_name = 'all_cells_w_dblts_spring' #adding to umap as well"
   ]
  },
  {
   "cell_type": "code",
   "execution_count": 26,
   "metadata": {},
   "outputs": [],
   "source": [
    "# color dictionary\n",
    "cdd = srz.read_cell_groupings(project_dir+plot_name+'/categorical_coloring_data.json')\n",
    "cdd = {key:value['label_colors'] for key,value in cdd.items()}\n",
    "\n",
    "# get cell filter:\n",
    "cell_ix = np.loadtxt(project_dir+plot_name+'/cell_filter.txt',dtype=int)\n",
    "\n",
    "# prepare cell groupings dictionary (discrete)\n",
    "cg = obs.iloc[cell_ix][toappend].astype(str).to_dict(orient='list')\n",
    "\n",
    "# prepare numerical\n",
    "ctracks = obs[cell_mask][toappend_cont].fillna(0).astype(float).to_dict(orient='list')\n",
    "\n",
    "# append categorical\n",
    "srz.append_cell_groupings(project_dir+plot_name,cg,colordd=cdd)\n",
    "# append numerical\n",
    "srz.append_color_tracks(ctracks,project_dir+plot_name,backup=True)"
   ]
  },
  {
   "cell_type": "code",
   "execution_count": null,
   "metadata": {},
   "outputs": [],
   "source": []
  }
 ],
 "metadata": {
  "kernelspec": {
   "display_name": "Python 3 (ipykernel)",
   "language": "python",
   "name": "python3"
  },
  "language_info": {
   "codemirror_mode": {
    "name": "ipython",
    "version": 3
   },
   "file_extension": ".py",
   "mimetype": "text/x-python",
   "name": "python",
   "nbconvert_exporter": "python",
   "pygments_lexer": "ipython3",
   "version": "3.11.7"
  },
  "toc": {
   "base_numbering": 1,
   "nav_menu": {},
   "number_sections": true,
   "sideBar": true,
   "skip_h1_title": true,
   "title_cell": "Table of Contents",
   "title_sidebar": "Contents",
   "toc_cell": false,
   "toc_position": {},
   "toc_section_display": true,
   "toc_window_display": false
  }
 },
 "nbformat": 4,
 "nbformat_minor": 4
}
