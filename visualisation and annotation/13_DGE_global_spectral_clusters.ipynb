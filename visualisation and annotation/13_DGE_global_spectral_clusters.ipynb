{
 "cells": [
  {
   "cell_type": "markdown",
   "metadata": {},
   "source": [
    "### Import scanpy"
   ]
  },
  {
   "cell_type": "code",
   "execution_count": 1,
   "metadata": {},
   "outputs": [],
   "source": [
    "import scanpy as sc\n",
    "import scanpy.external as sce\n",
    "#sc.logging.print_versions()\n",
    "#sc.logging.print_memory_usage()\n",
    "#sc.settings.verbosity = 2\n",
    "import os,sys\n",
    "import datetime\n",
    "import numpy as np\n",
    "import pandas as pd\n",
    "import matplotlib.pyplot as plt\n",
    "import math\n",
    "import matplotlib.ticker as mticker"
   ]
  },
  {
   "cell_type": "code",
   "execution_count": 2,
   "metadata": {
    "scrolled": true
   },
   "outputs": [
    {
     "name": "stdout",
     "output_type": "stream",
     "text": [
      "python version: 3.11.7\n"
     ]
    }
   ],
   "source": [
    "# add the utility function folder to PATH\n",
    "sys.path.append(os.path.abspath(\"utility_functions/\"))\n",
    "\n",
    "from rz_import_statements import *\n",
    "import rz_functions as rz\n",
    "import rz_fig_params # this adjust mpl.rcParams, almost nothing to import, import after scanpy to overwrite rc.Params\n",
    "import rz_utility_spring as srz"
   ]
  },
  {
   "cell_type": "markdown",
   "metadata": {},
   "source": [
    "# Load data"
   ]
  },
  {
   "cell_type": "code",
   "execution_count": 4,
   "metadata": {},
   "outputs": [],
   "source": [
    "adata = sc.read_h5ad('backups/final_sc_hvg_palantir_15372x3324_231130_12h58.h5ad') "
   ]
  },
  {
   "cell_type": "code",
   "execution_count": 5,
   "metadata": {},
   "outputs": [],
   "source": [
    "# overwrite obs with the most recent version\n",
    "filename = 'backups/obs_info_annotated_sc_hvg_no_cycle_15372x25_231129_17h30.npz'\n",
    "encoding = 'latin1'\n",
    "\n",
    "with np.load(filename,encoding=encoding, allow_pickle = True) as f:\n",
    "    obs = pd.DataFrame(**f)\n",
    "adata.obs = obs"
   ]
  },
  {
   "cell_type": "markdown",
   "metadata": {},
   "source": [
    "### Scale (normalize) data"
   ]
  },
  {
   "cell_type": "code",
   "execution_count": 7,
   "metadata": {},
   "outputs": [],
   "source": [
    "adata = adata.raw.to_adata()"
   ]
  },
  {
   "cell_type": "code",
   "execution_count": 8,
   "metadata": {
    "scrolled": true
   },
   "outputs": [
    {
     "name": "stdout",
     "output_type": "stream",
     "text": [
      "[[ 8560.]\n",
      " [19847.]\n",
      " [10175.]\n",
      " [ 7250.]\n",
      " [15370.]]\n",
      "\n",
      "[[10000.   ]\n",
      " [10000.001]\n",
      " [10000.   ]\n",
      " [ 9999.999]\n",
      " [10000.001]]\n"
     ]
    }
   ],
   "source": [
    "# turn into counts per 10k\n",
    "print(adata.X[:5,:].sum(axis=1))\n",
    "print()\n",
    "sc.pp.normalize_per_cell(adata, counts_per_cell_after=1e4)\n",
    "print(adata.X[:5,:].sum(axis=1))"
   ]
  },
  {
   "cell_type": "markdown",
   "metadata": {},
   "source": [
    "# Get enriched genes"
   ]
  },
  {
   "cell_type": "markdown",
   "metadata": {},
   "source": [
    "Upon interactive exploration of the UMAP in the SPRING (Weinreb et al., 2018) application, it was decided that spectral clustering with parameter k=43 is the best representation to separate the cellular phenotypes present in the dataset."
   ]
  },
  {
   "cell_type": "code",
   "execution_count": 9,
   "metadata": {},
   "outputs": [
    {
     "name": "stdout",
     "output_type": "stream",
     "text": [
      "15372\n"
     ]
    }
   ],
   "source": [
    "#taking all cells now\n",
    "\n",
    "cmask = np.repeat(True,adata.shape[0])\n",
    "print(cmask.sum())"
   ]
  },
  {
   "cell_type": "code",
   "execution_count": 11,
   "metadata": {},
   "outputs": [
    {
     "name": "stdout",
     "output_type": "stream",
     "text": [
      "cell_type\n"
     ]
    }
   ],
   "source": [
    "#spectral clustering labels\n",
    "for i in adata.obs:\n",
    "    if i.startswith('cell_type'):\n",
    "        print (i)"
   ]
  },
  {
   "cell_type": "code",
   "execution_count": 12,
   "metadata": {},
   "outputs": [],
   "source": [
    "# get centroids selecting the cluster configuration with k=43\n",
    "thelabel = 'cell_type'\n",
    "centroids = rz.centroids(thelabel,adata[cmask])"
   ]
  },
  {
   "cell_type": "code",
   "execution_count": 13,
   "metadata": {},
   "outputs": [],
   "source": [
    "# For each cluster, find genes that are statistically significantly higher or lower in cluster x compared to\n",
    "# all other cells collectively\n",
    "\n",
    "#label-free filter to remove low abundance genes - \n",
    "#gene has to be expressed in at least min_cells by at least min_counts\n",
    "min_counts = 10\n",
    "min_cells = 5"
   ]
  },
  {
   "cell_type": "code",
   "execution_count": 14,
   "metadata": {},
   "outputs": [
    {
     "name": "stdout",
     "output_type": "stream",
     "text": [
      "3091 genes passing abundance filter\n"
     ]
    }
   ],
   "source": [
    "gmask = srz.filter_abund_genes(adata.X[cmask], min_counts, min_cells)"
   ]
  },
  {
   "cell_type": "code",
   "execution_count": 15,
   "metadata": {},
   "outputs": [
    {
     "name": "stdout",
     "output_type": "stream",
     "text": [
      "1000\n",
      "2000\n",
      "3000\n",
      "1/9\n",
      "HSC done 15372\n",
      "1000\n",
      "2000\n",
      "3000\n",
      "2/9\n",
      "CLP done 15372\n",
      "1000\n",
      "2000\n",
      "3000\n",
      "3/9\n",
      "NMP done 15372\n",
      "1000\n",
      "2000\n",
      "3000\n",
      "4/9\n",
      "Ery done 15372\n",
      "1000\n",
      "2000\n",
      "3000\n",
      "5/9\n",
      "MPP done 15372\n",
      "1000\n",
      "2000\n",
      "3000\n",
      "6/9\n",
      "pDC done 15372\n",
      "1000\n",
      "2000\n",
      "3000\n",
      "7/9\n",
      "Mega done 15372\n",
      "1000\n",
      "2000\n",
      "3000\n",
      "8/9\n",
      "cDC done 15372\n",
      "1000\n",
      "2000\n",
      "3000\n",
      "9/9\n",
      "Mast done 15372\n",
      "182.83367085456848\n",
      "backups/cell_types_vs_rest_MWU_result_dict_no_cycle_231218_18h00cell_type\n"
     ]
    }
   ],
   "source": [
    "mwu_dict = {}\n",
    "start=time.time()\n",
    "counter=0\n",
    "\n",
    "meta = adata[cmask].obs\n",
    "E = adata[cmask].X\n",
    "gene_list = adata.var_names\n",
    "\n",
    "\n",
    "for cluster in meta[thelabel].unique():\n",
    "    counter+=1\n",
    "    mask1 = (meta[thelabel]==cluster).values\n",
    "    mask2 = mask1==False\n",
    "    \n",
    "    cg1 = np.array(E[:,gmask][mask1,:].todense())\n",
    "    cg2 = np.array(E[:,gmask][mask2,:].todense())\n",
    "    mwu_dict[cluster] = rz.mwu(cg1,cg2,genes=gene_list[gmask],print_progression=True)\n",
    "    print(\"%d/%d\"%(counter,len(meta[thelabel].unique())))\n",
    "    print(cluster, 'done',cg1.shape[0]+cg2.shape[0])\n",
    "print(time.time()-start)\n",
    "\n",
    "fname = 'backups/cell_types_vs_rest_MWU_result_dict_no_cycle_%s%s'%(rz.now(), thelabel)\n",
    "print(fname)\n",
    "rz.save_stuff(mwu_dict,fname)"
   ]
  },
  {
   "cell_type": "code",
   "execution_count": 14,
   "metadata": {},
   "outputs": [],
   "source": [
    "# if continuing from backup\n",
    "#mwu_dict = rz.load_stuff('backups_JZ_2022/cluster_vs_rest_MWU_result_dict_220317_17h32sp_cl_43.pickle')"
   ]
  },
  {
   "cell_type": "code",
   "execution_count": 16,
   "metadata": {},
   "outputs": [],
   "source": [
    "# select pseudovalue to add\n",
    "pseudo = 1 # 1 counts per 10k"
   ]
  },
  {
   "cell_type": "code",
   "execution_count": 17,
   "metadata": {},
   "outputs": [],
   "source": [
    "thelabel = 'cell_type'"
   ]
  },
  {
   "cell_type": "code",
   "execution_count": 18,
   "metadata": {},
   "outputs": [
    {
     "name": "stdout",
     "output_type": "stream",
     "text": [
      "cell_type\n"
     ]
    }
   ],
   "source": [
    "print(thelabel)\n",
    "\n",
    "# fcdict - fold-change dictionary\n",
    "\n",
    "fcdict = rz.get_fc_to_all_other(\n",
    "        lab = thelabel,\n",
    "        meta = adata[cmask].obs,\n",
    "        E = adata[cmask].X,\n",
    "        pseudo = pseudo,\n",
    "        gene_list = adata.var_names,\n",
    "        )"
   ]
  },
  {
   "cell_type": "code",
   "execution_count": 19,
   "metadata": {},
   "outputs": [
    {
     "name": "stdout",
     "output_type": "stream",
     "text": [
      "3091\n",
      "HSC 2922 2922\n",
      "CLP 2668 2668\n",
      "NMP 2356 2356\n",
      "Ery 2708 2708\n",
      "MPP 2560 2560\n",
      "pDC 1858 1858\n",
      "Mega 2176 2176\n",
      "cDC 1889 1889\n",
      "Mast 1071 1071\n"
     ]
    }
   ],
   "source": [
    "# leave only genes with a significant difference.\n",
    "fcdictsig = {}\n",
    "\n",
    "# before the mwu test, I prefiltered genes on abundance, apply this mask here as well\n",
    "print(gmask.sum())\n",
    "for key,value in fcdict.items():\n",
    "    sigmask = (mwu_dict[key]['fdr']<0.05).values\n",
    "    fcdictsig[key] = value[gmask][sigmask]\n",
    "    print(key,sigmask.sum(),len(fcdictsig[key]))"
   ]
  },
  {
   "cell_type": "code",
   "execution_count": 20,
   "metadata": {},
   "outputs": [
    {
     "data": {
      "text/plain": [
       "HSC_FC     1.303967\n",
       "CLP_FC     1.959370\n",
       "NMP_FC     1.469594\n",
       "Ery_FC     1.355569\n",
       "MPP_FC     1.226320\n",
       "pDC_FC     1.864269\n",
       "Mega_FC    1.483150\n",
       "cDC_FC     1.784239\n",
       "Mast_FC    1.420517\n",
       "dtype: float32"
      ]
     },
     "execution_count": 20,
     "metadata": {},
     "output_type": "execute_result"
    }
   ],
   "source": [
    "# nr genes to consider:\n",
    "upto = 100 # up to 100 genes used to generate Table S1\n",
    "\n",
    "\n",
    "frame = {}\n",
    "for key,value in fcdictsig.items():\n",
    "    s = value.sort_values(ascending=False)[:upto]\n",
    "    key2 = str(key)+'_FC'\n",
    "    frame[str(key)] = s.index\n",
    "    frame[key2] = s.values\n",
    "frame = pd.DataFrame(frame)\n",
    "frame[[i for i in frame.columns if \"FC\" in i]].min() #ok, all above 1."
   ]
  },
  {
   "cell_type": "code",
   "execution_count": 21,
   "metadata": {},
   "outputs": [],
   "source": [
    "outdir = 'outputs/'"
   ]
  },
  {
   "cell_type": "code",
   "execution_count": 22,
   "metadata": {},
   "outputs": [
    {
     "name": "stdout",
     "output_type": "stream",
     "text": [
      "outputs/lists_enriched_genes_no_cycle_top_100_cell_type_231218_18h03.xlsx\n"
     ]
    }
   ],
   "source": [
    "fname = outdir+'lists_enriched_genes_no_cycle_top_%d_%s_%s.xlsx'%(upto,thelabel,rz.now())\n",
    "print(fname)\n",
    "frame.to_excel(fname)"
   ]
  },
  {
   "cell_type": "code",
   "execution_count": null,
   "metadata": {},
   "outputs": [],
   "source": []
  }
 ],
 "metadata": {
  "kernelspec": {
   "display_name": "Python 3 (ipykernel)",
   "language": "python",
   "name": "python3"
  },
  "language_info": {
   "codemirror_mode": {
    "name": "ipython",
    "version": 3
   },
   "file_extension": ".py",
   "mimetype": "text/x-python",
   "name": "python",
   "nbconvert_exporter": "python",
   "pygments_lexer": "ipython3",
   "version": "3.11.7"
  }
 },
 "nbformat": 4,
 "nbformat_minor": 4
}
