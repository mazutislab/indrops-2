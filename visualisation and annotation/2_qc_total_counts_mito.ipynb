{
 "cells": [
  {
   "cell_type": "code",
   "execution_count": 1,
   "metadata": {},
   "outputs": [],
   "source": [
    "import scanpy as sc\n",
    "import os,sys\n",
    "import datetime\n",
    "import numpy as np\n",
    "import pandas as pd\n",
    "import matplotlib.pyplot as plt\n",
    "import math\n",
    "import matplotlib.ticker as mticker"
   ]
  },
  {
   "cell_type": "code",
   "execution_count": 2,
   "metadata": {},
   "outputs": [
    {
     "name": "stdout",
     "output_type": "stream",
     "text": [
      "scanpy==1.8.1 anndata==0.7.6 umap==0.5.1 numpy==1.20.1 scipy==1.6.2 pandas==1.3.5 scikit-learn==1.1.3 statsmodels==0.12.2 python-igraph==0.10.6 louvain==0.7.0 pynndescent==0.5.2\n"
     ]
    }
   ],
   "source": [
    "sc.logging.print_header()"
   ]
  },
  {
   "cell_type": "code",
   "execution_count": 3,
   "metadata": {},
   "outputs": [
    {
     "name": "stdout",
     "output_type": "stream",
     "text": [
      "python version: 3.8.8\n"
     ]
    }
   ],
   "source": [
    "# add the utility functions folder to PATH (from Rapolas Zilionis, taken from\n",
    "# https://github.com/rapolaszilionis/utility_functions)\n",
    "\n",
    "sys.path.append(os.path.abspath(\"utility_functions\"))\n",
    "\n",
    "from rz_import_statements import *\n",
    "import rz_functions as rz\n",
    "import rz_fig_params # this adjust mpl.rcParams, almost nothing to import, import after scanpy to overwrite rc.Params\n",
    "import rz_utility_spring as srzc"
   ]
  },
  {
   "cell_type": "code",
   "execution_count": 4,
   "metadata": {},
   "outputs": [],
   "source": [
    "#load raw adata\n",
    "adata = sc.read_h5ad('backups/concatenated_raw_14032128x37733_230831_12h13.h5ad')"
   ]
  },
  {
   "cell_type": "markdown",
   "metadata": {},
   "source": [
    "## Filtering on total counts and mito fraction"
   ]
  },
  {
   "cell_type": "code",
   "execution_count": 5,
   "metadata": {},
   "outputs": [],
   "source": [
    "#get total counts\n",
    "adata.obs['total_counts']= adata.X.sum(axis=1)"
   ]
  },
  {
   "cell_type": "code",
   "execution_count": 6,
   "metadata": {},
   "outputs": [
    {
     "name": "stdout",
     "output_type": "stream",
     "text": [
      "(14032128, 37733)\n",
      "(532324, 37733)\n"
     ]
    }
   ],
   "source": [
    "# remove barcodes with veeery few counts, e.g. 10 to ease up calculations further\n",
    "\n",
    "cmask = adata.obs['total_counts'].values>10 \n",
    "print(adata.shape)\n",
    "adata = adata[cmask]\n",
    "print(adata.shape)"
   ]
  },
  {
   "cell_type": "code",
   "execution_count": 7,
   "metadata": {},
   "outputs": [
    {
     "data": {
      "text/plain": [
       "5"
      ]
     },
     "execution_count": 7,
     "metadata": {},
     "output_type": "execute_result"
    }
   ],
   "source": [
    "len(adata.obs['library'].unique())"
   ]
  },
  {
   "cell_type": "code",
   "execution_count": 8,
   "metadata": {},
   "outputs": [],
   "source": [
    "adata.var_names = adata.var_names.str.replace('GRCh38_', '')"
   ]
  },
  {
   "cell_type": "code",
   "execution_count": 9,
   "metadata": {},
   "outputs": [
    {
     "name": "stdout",
     "output_type": "stream",
     "text": [
      "13\n"
     ]
    },
    {
     "data": {
      "text/plain": [
       "['MT-ND1',\n",
       " 'MT-ND2',\n",
       " 'MT-CO1',\n",
       " 'MT-CO2',\n",
       " 'MT-ATP8',\n",
       " 'MT-ATP6',\n",
       " 'MT-CO3',\n",
       " 'MT-ND3',\n",
       " 'MT-ND4L',\n",
       " 'MT-ND4',\n",
       " 'MT-ND5',\n",
       " 'MT-ND6',\n",
       " 'MT-CYB']"
      ]
     },
     "execution_count": 9,
     "metadata": {},
     "output_type": "execute_result"
    }
   ],
   "source": [
    "# define mitochondrial genes \n",
    "\n",
    "mitogenes = [i for i in adata.var_names if i.startswith('MT-')]\n",
    "print (len(mitogenes))\n",
    "mitogenes\n",
    "                                                        "
   ]
  },
  {
   "cell_type": "code",
   "execution_count": 10,
   "metadata": {},
   "outputs": [
    {
     "data": {
      "text/plain": [
       "73           3.225806\n",
       "160          8.472597\n",
       "183          3.225806\n",
       "258          3.448276\n",
       "546          1.818182\n",
       "              ...    \n",
       "14032123     3.125000\n",
       "14032124     3.076923\n",
       "14032125     1.265823\n",
       "14032126    10.000000\n",
       "14032127    10.000000\n",
       "Name: pct_counts_mito, Length: 532324, dtype: float32"
      ]
     },
     "execution_count": 10,
     "metadata": {},
     "output_type": "execute_result"
    }
   ],
   "source": [
    "#calculate mitochondrial percentage and add to obs\n",
    "\n",
    "mitomask = np.in1d(adata.var_names,mitogenes)\n",
    "\n",
    "adata.obs['pct_counts_mito'] = np.array(adata.X[:,mitomask].sum(axis=1)).T[0]/adata.obs['total_counts'].values*100.\n",
    "adata.obs['pct_counts_mito']\n"
   ]
  },
  {
   "cell_type": "code",
   "execution_count": null,
   "metadata": {},
   "outputs": [],
   "source": [
    "#tidying up the library names, adding minimal information\n",
    "for i in sorted(adata.obs['library'].unique()):\n",
    "    print('\"%s\":\"\",'%i)"
   ]
  },
  {
   "cell_type": "code",
   "execution_count": 12,
   "metadata": {},
   "outputs": [],
   "source": [
    "renamer = {\n",
    "\"CD34-04\":\"10X fresh\",\n",
    "\"CD34-01\":\"InDrop2 fresh 1\",\n",
    "\"CD34-02\":\"InDrop2 fresh 2\",\n",
    "\"CD34-05\":\"10X fixed\",\n",
    "\"CD34-03\":\"InDrop2 fixed\",\n",
    "}"
   ]
  },
  {
   "cell_type": "code",
   "execution_count": null,
   "metadata": {},
   "outputs": [],
   "source": [
    "#In the case of PBMC samples, libraries were renamed as follows:\n",
    "#\"PBMC-05\":\"Fresh 10X\",\n",
    "#\"PBMC-06\":\"Fixed 10X\",\n",
    "#\"PBMC-04\":\"Fixed InDrop2\",\n",
    "#\"PBMC-03\":\"Fresh InDrop2\""
   ]
  },
  {
   "cell_type": "code",
   "execution_count": null,
   "metadata": {
    "scrolled": true
   },
   "outputs": [],
   "source": [
    "adata.obs['conditions'] = [renamer[i] for i in adata.obs['library']]\n",
    "adata.obs.head()"
   ]
  },
  {
   "cell_type": "code",
   "execution_count": 14,
   "metadata": {},
   "outputs": [
    {
     "name": "stdout",
     "output_type": "stream",
     "text": [
      "ts_dict = {\n",
      "\"10X fresh\":(3300,20), #(min_nr_counts,max_pct_mito)\n",
      "\"InDrop2 fresh 1\":(3300,20), #(min_nr_counts,max_pct_mito)\n",
      "\"InDrop2 fresh 2\":(3300,20), #(min_nr_counts,max_pct_mito)\n",
      "\"10X fixed\":(3300,20), #(min_nr_counts,max_pct_mito)\n",
      "\"InDrop2 fixed\":(3300,20), #(min_nr_counts,max_pct_mito)\n",
      "}\n"
     ]
    }
   ],
   "source": [
    "libcol = 'conditions' # column of obs to use\n",
    "\n",
    "# just a hack to faster fill-in thresholds used, they are set by eye\n",
    "libs = adata.obs[libcol].unique()\n",
    "\n",
    "#for entering threshold, copy/paste the output of this cell below\n",
    "print(\"ts_dict = {\") #for \"threshold dictionary\"\n",
    "for lib in libs:\n",
    "    print('\"%s\":(3300,20), #(min_nr_counts,max_pct_mito)'%lib)\n",
    "print('}')"
   ]
  },
  {
   "cell_type": "code",
   "execution_count": 25,
   "metadata": {},
   "outputs": [],
   "source": [
    "# copy and edit output of previous cell\n",
    "# first run without any thresholds, then adjust based on the distribution of barcodes\n",
    "\n",
    "ts_dict = {\n",
    "\"10X fresh\":(2000,20), #(min_nr_counts,max_pct_mito)\n",
    "\"InDrop2 fresh 1\":(1500,20), #(min_nr_counts,max_pct_mito)\n",
    "\"InDrop2 fresh 2\":(2000,20), #(min_nr_counts,max_pct_mito)\n",
    "\"10X fixed\":(1500,20), #(min_nr_counts,max_pct_mito)\n",
    "\"InDrop2 fixed\":(1800,20), #(min_nr_counts,max_pct_mito)\n",
    "}"
   ]
  },
  {
   "cell_type": "code",
   "execution_count": null,
   "metadata": {},
   "outputs": [],
   "source": [
    "#In the case of PBMC samples, the thresholds were set as follows:\n",
    "#\"Fresh InDrop2\":(3000,20), #(min_nr_counts,max_pct_mito)\n",
    "#\"Fixed InDrop2\":(2300,20), #(min_nr_counts,max_pct_mito)\n",
    "#\"Fixed 10X\":(2500,20), #(min_nr_counts,max_pct_mito)\n",
    "#\"Fresh 10X\":(2500,20), #(min_nr_counts,max_pct_mito)"
   ]
  },
  {
   "cell_type": "code",
   "execution_count": 26,
   "metadata": {},
   "outputs": [
    {
     "name": "stdout",
     "output_type": "stream",
     "text": [
      "20021\n"
     ]
    },
    {
     "data": {
      "image/png": "[encoded data removed]",
      "text/plain": [
       "<Figure size 984.253x393.701 with 10 Axes>"
      ]
     },
     "metadata": {
      "needs_background": "light"
     },
     "output_type": "display_data"
    }
   ],
   "source": [
    "!mkdir -p outputs\n",
    "\n",
    "plot_title='CD34'\n",
    "pass_filters = []\n",
    "\n",
    "#plot mito histograms\n",
    "nr_rows = math.ceil(len(libs)/5.)\n",
    "\n",
    "fig,gs = rz.startfig(w=25,h=nr_rows*10,rows=nr_rows*2,columns=5,return_first_ax=False)\n",
    "#startfig - a custom function by Rapo\n",
    "\n",
    "# get all the coordinates of the my subplots\n",
    "coords = np.argwhere(np.zeros([nr_rows,5]) == 0)\n",
    "\n",
    "# control total count range to expect\n",
    "xmin = 10\n",
    "xmax = 10**5.2\n",
    "\n",
    "\n",
    "for c,lib in zip(coords,libs):\n",
    "    \n",
    "    a = fig.add_subplot(gs[c[0]*2,c[1]])\n",
    "    a1 = fig.add_subplot(gs[c[0]*2+1,c[1]]) #c in coords\n",
    "\n",
    "    mask = adata.obs[libcol] == lib\n",
    "    x = adata.obs.loc[mask,'total_counts'] \n",
    "    y = adata.obs.loc[mask,'pct_counts_mito']\n",
    "    \n",
    "    #scatter\n",
    "    a.scatter(x,y,lw=0,s=5,alpha=0.1,rasterized=True)\n",
    "    a.set_xscale('log')\n",
    "    a.set_xlim(xmin,xmax)\n",
    "    a.set_ylim(0,100)\n",
    "    a.set_ylabel('Mitochondrial counts, %')\n",
    "    a.set_title(lib)\n",
    "    \n",
    "    #plot threshold in scatter\n",
    "    ts = ts_dict[lib]\n",
    "    a.plot((ts[0],ts[0]),(a.get_ylim()[0],ts[1]),lw=1,color='r')\n",
    "    a.plot((ts[0],a.get_xlim()[1]),(ts[1],ts[1]),lw=1,color='r')\n",
    "    pass_ts = (adata.obs.loc[mask,'total_counts']>=ts[0])&(adata.obs.loc[mask,'pct_counts_mito']<ts[1]) \n",
    "    cells_pass = pass_ts.sum()\n",
    "    cells_all = len(pass_ts)\n",
    "    a.text(a.get_xlim()[1]*0.8,a.get_ylim()[1]*0.8,\n",
    "           \"%d out of %d\\nbarcodes pass filter\"%(cells_pass,cells_all),\n",
    "           ha='right')\n",
    "    \n",
    "    pass_filters+=(list(pass_ts.values))\n",
    "    \n",
    "    # histogram\n",
    "    bins=np.logspace(np.log10(xmin),np.log10(xmax),51)\n",
    "    hs, bins,patches = plt.hist(x,bins=bins)\n",
    "    \n",
    "    #plot barchart\n",
    "    lefts = bins[:-1]\n",
    "    rights = bins[1:]\n",
    "    a1.bar(x = lefts,width = rights-lefts,height = hs*rights,\n",
    "          align='edge',\n",
    "          lw=0.,color = 'c')\n",
    "    a1.set_xscale('log');\n",
    "    a1.set_xlim(xmin,xmax)\n",
    "\n",
    "    # threshold:\n",
    "    a1.plot((ts[0],ts[0]),(a1.get_ylim()[0],a1.set_ylim()[1]),lw=1,color='r')\n",
    "    a1.set_xlabel('Total counts')\n",
    "    \n",
    "    a1.set_ylabel('# reads from bin')\n",
    "           \n",
    "\n",
    "print(sum(pass_filters))\n",
    "#gs.tight_layout(fig, pad = 0.3)\n",
    "\n",
    "#plt.savefig('outputs/mito_pct_vs_total_counts_%s.pdf'%(plot_title), dpi=600)\n",
    "#plt.savefig('outputs/mito_pct_vs_total_counts_%s.png'%(plot_title), dpi=600)"
   ]
  },
  {
   "cell_type": "code",
   "execution_count": 27,
   "metadata": {},
   "outputs": [
    {
     "name": "stdout",
     "output_type": "stream",
     "text": [
      "532324\n",
      "20021 (532324,)\n"
     ]
    }
   ],
   "source": [
    "#apply the tresholds to data\n",
    "\n",
    "cmask = np.repeat(True,adata.shape[0])\n",
    "print (cmask.sum())\n",
    "for key,value in ts_dict.items():\n",
    "    m1 = (adata.obs[libcol] == key).values\n",
    "    tmp = adata.obs[m1]\n",
    "    m2 = (tmp['total_counts']>=value[0]).values\n",
    "    m3 = (tmp['pct_counts_mito']<value[1]).values\n",
    "    cmask[m1] = m2&m3\n",
    "    \n",
    "print(cmask.sum(),cmask.shape)"
   ]
  },
  {
   "cell_type": "code",
   "execution_count": 28,
   "metadata": {},
   "outputs": [
    {
     "name": "stdout",
     "output_type": "stream",
     "text": [
      "(532324, 37733)\n",
      "(20021, 37733)\n"
     ]
    }
   ],
   "source": [
    "print( adata.shape)\n",
    "adata = adata[cmask]\n",
    "print (adata.shape)"
   ]
  },
  {
   "cell_type": "code",
   "execution_count": 29,
   "metadata": {},
   "outputs": [
    {
     "name": "stdout",
     "output_type": "stream",
     "text": [
      "10X fresh 3124\n",
      "InDrop2 fresh 1 1104\n",
      "InDrop2 fresh 2 1145\n",
      "10X fixed 9185\n",
      "InDrop2 fixed 5463\n"
     ]
    }
   ],
   "source": [
    "#checking cell count for each sample\n",
    "for i in adata.obs['conditions'].unique():\n",
    "    print (i, sum(adata.obs['conditions'] == i))"
   ]
  },
  {
   "cell_type": "code",
   "execution_count": 30,
   "metadata": {},
   "outputs": [
    {
     "name": "stdout",
     "output_type": "stream",
     "text": [
      "\"10X fixed\":\"10X fixed\",\n",
      "\"10X fresh\":\"10X fresh\",\n",
      "\"InDrop2 fixed\":\"InDrop2 fixed\",\n",
      "\"InDrop2 fresh 1\":\"InDrop2 fresh 1\",\n",
      "\"InDrop2 fresh 2\":\"InDrop2 fresh 2\",\n"
     ]
    }
   ],
   "source": [
    "for i in sorted(adata.obs['conditions'].unique()):\n",
    "    print('\"%s\":\"%s\",'%(i,i))"
   ]
  },
  {
   "cell_type": "code",
   "execution_count": null,
   "metadata": {
    "scrolled": true
   },
   "outputs": [],
   "source": [
    "#merging 2 InDrops2 libraries together\n",
    "renamer = {\n",
    "\"10X fixed\":\"10X fixed\",\n",
    "\"10X fresh\":\"10X fresh\",\n",
    "\"InDrop2 fixed\":\"InDrop2 fixed\",\n",
    "\"InDrop2 fresh 1\":\"InDrop2 fresh\",\n",
    "\"InDrop2 fresh 2\":\"InDrop2 fresh\"\n",
    "}\n",
    "adata.obs['conditions2'] = [renamer[i] for i in adata.obs['conditions']]\n",
    "adata.obs.head()"
   ]
  },
  {
   "cell_type": "code",
   "execution_count": null,
   "metadata": {
    "scrolled": true
   },
   "outputs": [],
   "source": [
    "\n",
    "# write the entire adata object\n",
    "fname1 = 'backups/filt_raw_%dx%d_%s_%s.h5ad'%(adata.shape[0],adata.shape[1],rz.now(),plot_title)\n",
    "print(fname1)\n",
    "adata.write(fname1)\n",
    "\n"
   ]
  },
  {
   "cell_type": "code",
   "execution_count": null,
   "metadata": {
    "tags": []
   },
   "outputs": [],
   "source": [
    "# save the pandas dataframe under adata.obs \n",
    "meta = adata.obs\n",
    "fname_obs1 = 'backups/obs_info_filt_%dx%d_%s'%(meta.shape[0],meta.shape[1],rz.now())\n",
    "\n",
    "print(fname_obs1)\n",
    "rz.save_df(meta,fname_obs1)\n"
   ]
  },
  {
   "cell_type": "code",
   "execution_count": null,
   "metadata": {},
   "outputs": [],
   "source": []
  }
 ],
 "metadata": {
  "kernelspec": {
   "display_name": "Python 3 (ipykernel)",
   "language": "python",
   "name": "python3"
  },
  "language_info": {
   "codemirror_mode": {
    "name": "ipython",
    "version": 3
   },
   "file_extension": ".py",
   "mimetype": "text/x-python",
   "name": "python",
   "nbconvert_exporter": "python",
   "pygments_lexer": "ipython3",
   "version": "3.11.7"
  }
 },
 "nbformat": 4,
 "nbformat_minor": 4
}
