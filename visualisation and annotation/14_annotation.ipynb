{
 "cells": [
  {
   "cell_type": "code",
   "execution_count": 1,
   "metadata": {},
   "outputs": [],
   "source": [
    "import scanpy as sc\n",
    "import scanpy.external as sce\n",
    "import os,sys\n",
    "import datetime\n",
    "import numpy as np\n",
    "import pandas as pd\n",
    "import matplotlib.pyplot as plt\n",
    "import math\n",
    "import matplotlib.ticker as mticker"
   ]
  },
  {
   "cell_type": "code",
   "execution_count": 2,
   "metadata": {},
   "outputs": [
    {
     "name": "stdout",
     "output_type": "stream",
     "text": [
      "python version: 3.8.18\n"
     ]
    }
   ],
   "source": [
    "# add the utility function folder to PATH\n",
    "import sys\n",
    "sys.path.append(os.path.abspath(\"utility_functions/\"))\n",
    "\n",
    "from rz_import_statements import *\n",
    "import rz_functions as rz\n",
    "import rz_fig_params # this adjust mpl.rcParams, almost nothing to import, import after scanpy to overwrite rc.Params\n",
    "import rz_utility_spring as srz"
   ]
  },
  {
   "cell_type": "markdown",
   "metadata": {},
   "source": [
    "# Load data"
   ]
  },
  {
   "cell_type": "markdown",
   "metadata": {},
   "source": [
    "Annotation is manual, based on extensive literature review. Top 25 marker genes with references proving it's expression in the annotated cell type for each cluster are provided in Supplementary file Table 1."
   ]
  },
  {
   "cell_type": "code",
   "execution_count": 3,
   "metadata": {},
   "outputs": [],
   "source": [
    "# SPRING plot path\n",
    "path1 = \"/Users/karolisgoda/Library/CloudStorage/GoogleDrive-karolisgoda@gmail.com/My Drive/MF/data/SPRING_dev-master/data/\" \n",
    "project_dir = path1+'CD34_good/clean_good_sc_hvg/'\n",
    "plot_name = 'palantir'\n"
   ]
  },
  {
   "cell_type": "code",
   "execution_count": 4,
   "metadata": {},
   "outputs": [],
   "source": [
    "#load latest obs\n",
    "filename = 'backups/obs_info_sc_hvg_cluster_15372x34_231129_12h28.npz'\n",
    "encoding = 'latin1'\n",
    "\n",
    "with np.load(filename,encoding=encoding, allow_pickle = True) as f:\n",
    "    obs = pd.DataFrame(**f)"
   ]
  },
  {
   "cell_type": "code",
   "execution_count": 6,
   "metadata": {},
   "outputs": [
    {
     "name": "stdout",
     "output_type": "stream",
     "text": [
      "\"0\":\"\",\n",
      "\"1\":\"\",\n",
      "\"10\":\"\",\n",
      "\"2\":\"\",\n",
      "\"3\":\"\",\n",
      "\"4\":\"\",\n",
      "\"5\":\"\",\n",
      "\"6\":\"\",\n",
      "\"7\":\"\",\n",
      "\"8\":\"\",\n",
      "\"9\":\"\",\n"
     ]
    }
   ],
   "source": [
    "#clusters to annotate are in obs['sp_cl_10']\n",
    "for i in np.unique(obs['sp_cl_11']):\n",
    "    print('\"%s\":\"\",'%i)"
   ]
  },
  {
   "cell_type": "code",
   "execution_count": 11,
   "metadata": {},
   "outputs": [
    {
     "data": {
      "text/plain": [
       "1239        HSC\n",
       "4688        CLP\n",
       "5713        HSC\n",
       "7475        CLP\n",
       "9116        CLP\n",
       "           ... \n",
       "14031901    Ery\n",
       "14031922    HSC\n",
       "14031952    CLP\n",
       "14031962    MPP\n",
       "14032043    NMP\n",
       "Name: cell_type, Length: 15372, dtype: object"
      ]
     },
     "execution_count": 11,
     "metadata": {},
     "output_type": "execute_result"
    }
   ],
   "source": [
    "renamer = {\n",
    "\"0\":\"HSC\",\n",
    "\"1\":\"CLP\",\n",
    "\"2\":\"Ery\",\n",
    "\"3\":\"Mast\",\n",
    "\"4\":\"pDC\",\n",
    "\"5\":\"CLP\",\n",
    "\"6\":\"Mega\",\n",
    "\"7\":\"NMP\",\n",
    "\"8\":\"Ery\",\n",
    "\"9\":\"cDC\",\n",
    "\"10\":\"MPP\"\n",
    "}\n",
    "obs['cell_type'] = [renamer[i] for i in obs['sp_cl_11']]\n",
    "obs['cell_type']"
   ]
  },
  {
   "cell_type": "code",
   "execution_count": 14,
   "metadata": {},
   "outputs": [],
   "source": [
    "#remove unused categories\n",
    "\n",
    "for i in obs.keys():\n",
    "    if i.startswith('leid'):\n",
    "        obs.pop(i)"
   ]
  },
  {
   "cell_type": "code",
   "execution_count": 15,
   "metadata": {},
   "outputs": [],
   "source": [
    "\n",
    "for i in obs.keys():\n",
    "    if i.startswith('pheno'):\n",
    "        obs.pop(i)"
   ]
  },
  {
   "cell_type": "code",
   "execution_count": 16,
   "metadata": {},
   "outputs": [],
   "source": [
    "\n",
    "for i in obs.keys():\n",
    "    if i.startswith('sp_cl')and i!='sp_cl_11':\n",
    "        obs.pop(i)\n",
    "        "
   ]
  },
  {
   "cell_type": "code",
   "execution_count": 17,
   "metadata": {},
   "outputs": [],
   "source": [
    "\n",
    "for i in obs.keys():\n",
    "    if i.startswith('removed'):\n",
    "        obs.pop(i)"
   ]
  },
  {
   "cell_type": "code",
   "execution_count": 18,
   "metadata": {},
   "outputs": [],
   "source": [
    "\n",
    "for i in obs.keys():\n",
    "    if i.startswith('louvain'):\n",
    "        obs.pop(i)"
   ]
  },
  {
   "cell_type": "code",
   "execution_count": 20,
   "metadata": {},
   "outputs": [],
   "source": [
    "# load current color dictionary\n",
    "cg0 = srz.read_cell_groupings(project_dir+plot_name+'/categorical_coloring_data.json')\n",
    "\n",
    "\n",
    "# color dictionary of dictionaries\n",
    "cdd = {key:value['label_colors'] for key,value in cg0.items()}\n"
   ]
  },
  {
   "cell_type": "code",
   "execution_count": 22,
   "metadata": {},
   "outputs": [],
   "source": [
    "cat_vars = [ 'library',  'conditions',\n",
    "       'conditions2', 'preservation', 'method',\n",
    "       'sp_cl_11',\n",
    "       'cell_type']"
   ]
  },
  {
   "cell_type": "code",
   "execution_count": 24,
   "metadata": {},
   "outputs": [],
   "source": [
    "cg = {key:list(np.array(value).astype(str)) for key,value in obs.loc[:, cat_vars].items()}"
   ]
  },
  {
   "cell_type": "code",
   "execution_count": 25,
   "metadata": {},
   "outputs": [],
   "source": [
    "# append categorical colortrack\n",
    "srz.append_cell_groupings(project_dir+plot_name,cg,colordd=cdd)"
   ]
  },
  {
   "cell_type": "code",
   "execution_count": 26,
   "metadata": {},
   "outputs": [
    {
     "name": "stdout",
     "output_type": "stream",
     "text": [
      "backups/obs_info_annotated_sc_hvg_no_cycle_15372x25_231129_17h30.npz\n"
     ]
    }
   ],
   "source": [
    "fname = 'backups/obs_info_annotated_sc_hvg_no_cycle_%dx%d_%s.npz'%(obs.shape[0],obs.shape[1],rz.now())\n",
    "print(fname)\n",
    "rz.save_df(obs,fname)"
   ]
  }
 ],
 "metadata": {
  "kernelspec": {
   "display_name": "Python 3 (ipykernel)",
   "language": "python",
   "name": "python3"
  },
  "language_info": {
   "codemirror_mode": {
    "name": "ipython",
    "version": 3
   },
   "file_extension": ".py",
   "mimetype": "text/x-python",
   "name": "python",
   "nbconvert_exporter": "python",
   "pygments_lexer": "ipython3",
   "version": "3.11.7"
  }
 },
 "nbformat": 4,
 "nbformat_minor": 4
}
