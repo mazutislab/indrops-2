{
 "cells": [
  {
   "cell_type": "code",
   "execution_count": 1,
   "metadata": {},
   "outputs": [],
   "source": [
    "import scanpy as sc\n",
    "import os,sys\n",
    "import datetime\n",
    "import numpy as np\n",
    "import pandas as pd\n",
    "import matplotlib.pyplot as plt\n",
    "import math\n",
    "import matplotlib.ticker as mticker"
   ]
  },
  {
   "cell_type": "code",
   "execution_count": 2,
   "metadata": {},
   "outputs": [
    {
     "name": "stdout",
     "output_type": "stream",
     "text": [
      "python version: 3.8.8\n"
     ]
    }
   ],
   "source": [
    "# add the utility function folder to PATH\n",
    "sys.path.append(os.path.abspath(\"utility_functions/\"))\n",
    "\n",
    "from rz_import_statements import *\n",
    "import rz_functions as rz\n",
    "import rz_utility_spring as srz"
   ]
  },
  {
   "cell_type": "markdown",
   "metadata": {},
   "source": [
    "# Load  data"
   ]
  },
  {
   "cell_type": "code",
   "execution_count": 3,
   "metadata": {},
   "outputs": [],
   "source": [
    "adata = sc.read_h5ad('backups/filt_raw_20021x37733_230928_14h17.h5ad')\n"
   ]
  },
  {
   "cell_type": "markdown",
   "metadata": {},
   "source": [
    "## Adding some technical information to data"
   ]
  },
  {
   "cell_type": "code",
   "execution_count": 5,
   "metadata": {},
   "outputs": [
    {
     "name": "stdout",
     "output_type": "stream",
     "text": [
      "\"10X fixed\":\"\",\n",
      "\"10X fresh\":\"\",\n",
      "\"InDrop2 fixed\":\"\",\n",
      "\"InDrop2 fresh\":\"\",\n"
     ]
    }
   ],
   "source": [
    "#adding info about cell preservation\n",
    "for i in sorted(adata.obs['conditions2'].unique()):\n",
    "    print('\"%s\":\"\",'%i)"
   ]
  },
  {
   "cell_type": "code",
   "execution_count": 8,
   "metadata": {},
   "outputs": [
    {
     "data": {
      "text/plain": [
       "160         Fresh\n",
       "1239        Fresh\n",
       "4688        Fresh\n",
       "5713        Fresh\n",
       "7475        Fresh\n",
       "            ...  \n",
       "14031962    Fixed\n",
       "14031983    Fixed\n",
       "14032029    Fixed\n",
       "14032043    Fixed\n",
       "14032062    Fixed\n",
       "Name: preservation, Length: 20021, dtype: object"
      ]
     },
     "execution_count": 8,
     "metadata": {},
     "output_type": "execute_result"
    }
   ],
   "source": [
    "renamer = {\n",
    "\"10X fixed\":\"Fixed\",\n",
    "\"10X fresh\":\"Fresh\",\n",
    "\"InDrop2 fixed\":\"Fixed\",\n",
    "\"InDrop2 fresh\":\"Fresh\",\n",
    "}\n",
    "\n",
    "adata.obs['preservation'] = [renamer[i] for i in adata.obs['conditions2']]\n",
    "adata.obs['preservation']"
   ]
  },
  {
   "cell_type": "code",
   "execution_count": 9,
   "metadata": {},
   "outputs": [
    {
     "data": {
      "text/plain": [
       "160             10X\n",
       "1239            10X\n",
       "4688            10X\n",
       "5713            10X\n",
       "7475            10X\n",
       "             ...   \n",
       "14031962    InDrop2\n",
       "14031983    InDrop2\n",
       "14032029    InDrop2\n",
       "14032043    InDrop2\n",
       "14032062    InDrop2\n",
       "Name: method, Length: 20021, dtype: object"
      ]
     },
     "execution_count": 9,
     "metadata": {},
     "output_type": "execute_result"
    }
   ],
   "source": [
    "#adding info about method\n",
    "renamer = {\n",
    "\"10X fixed\":\"10X\",\n",
    "\"10X fresh\":\"10X\",\n",
    "\"InDrop2 fixed\":\"InDrop2\",\n",
    "\"InDrop2 fresh\":\"InDrop2\",\n",
    "}\n",
    "\n",
    "adata.obs['method'] = [renamer[i] for i in adata.obs['conditions2']]\n",
    "adata.obs['method']"
   ]
  },
  {
   "cell_type": "markdown",
   "metadata": {},
   "source": [
    "## Saving the updated obs file"
   ]
  },
  {
   "cell_type": "code",
   "execution_count": null,
   "metadata": {},
   "outputs": [],
   "source": [
    "fname = 'backups/obs_info_technical_%dx%d_%s.npz'%(adata.obs.shape[0],adata.obs.shape[1],rz.now())\n",
    "print(fname)\n",
    "rz.save_df(adata.obs,fname)"
   ]
  },
  {
   "cell_type": "code",
   "execution_count": null,
   "metadata": {},
   "outputs": [],
   "source": []
  }
 ],
 "metadata": {
  "kernelspec": {
   "display_name": "Python 3 (ipykernel)",
   "language": "python",
   "name": "python3"
  },
  "language_info": {
   "codemirror_mode": {
    "name": "ipython",
    "version": 3
   },
   "file_extension": ".py",
   "mimetype": "text/x-python",
   "name": "python",
   "nbconvert_exporter": "python",
   "pygments_lexer": "ipython3",
   "version": "3.11.7"
  }
 },
 "nbformat": 4,
 "nbformat_minor": 4
}
