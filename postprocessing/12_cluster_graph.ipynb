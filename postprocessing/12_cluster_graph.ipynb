{
 "cells": [
  {
   "cell_type": "code",
   "execution_count": 1,
   "metadata": {},
   "outputs": [],
   "source": [
    "import scanpy as sc\n",
    "import scanpy.external as sce\n",
    "#sc.logging.print_versions()\n",
    "#sc.logging.print_memory_usage()\n",
    "#sc.settings.verbosity = 2\n",
    "import os,sys\n",
    "import datetime\n",
    "import numpy as np\n",
    "import pandas as pd\n",
    "import matplotlib.pyplot as plt\n",
    "import math\n",
    "import matplotlib.ticker as mticker"
   ]
  },
  {
   "cell_type": "code",
   "execution_count": 2,
   "metadata": {},
   "outputs": [
    {
     "name": "stdout",
     "output_type": "stream",
     "text": [
      "python version: 3.8.18\n"
     ]
    }
   ],
   "source": [
    "# add the utility function folder to PATH\n",
    "import sys\n",
    "sys.path.append(os.path.abspath(\"utility_functions/\"))\n",
    "\n",
    "from rz_import_statements import *\n",
    "import rz_functions as rz\n",
    "import rz_fig_params # this adjust mpl.rcParams, almost nothing to import, import after scanpy to overwrite rc.Params\n",
    "import rz_utility_spring as srz"
   ]
  },
  {
   "cell_type": "markdown",
   "metadata": {},
   "source": [
    "## Load data"
   ]
  },
  {
   "cell_type": "code",
   "execution_count": 3,
   "metadata": {},
   "outputs": [],
   "source": [
    "#load the newest obs with doublet and RBC removal\n",
    "filename = 'backups/obs_info_clean_good_15372x30_231009_12h06.npz'\n",
    "encoding = 'latin1'\n",
    "\n",
    "with np.load(filename,encoding=encoding, allow_pickle = True) as f:\n",
    "    obs = pd.DataFrame(**f)"
   ]
  },
  {
   "cell_type": "code",
   "execution_count": 56,
   "metadata": {},
   "outputs": [],
   "source": [
    "# load intermediates I saved when preparing the SPRING plot\n",
    "path1 = \"/Users/karolisgoda/Library/CloudStorage/GoogleDrive-karolisgoda@gmail.com/My Drive/MF/data/SPRING_dev-master/data/\" \n",
    "project_dir = path1+'CD34_good/clean_good_sc_hvg/'\n",
    "plot_name = 'palantir_cell_cycle'\n",
    "\n",
    "\n",
    "#params = rz.load_stuff(project_dir+plot_name+'/params.pickle')\n",
    "#params.keys()"
   ]
  },
  {
   "cell_type": "code",
   "execution_count": 57,
   "metadata": {},
   "outputs": [],
   "source": [
    "#the umap and graph data is saved in adata file\n",
    "adatag = sc.read_h5ad('backups/clean_good_sc_hvg_15372x3324_231129_15h00.h5ad')\n"
   ]
  },
  {
   "cell_type": "code",
   "execution_count": 58,
   "metadata": {},
   "outputs": [
    {
     "data": {
      "text/plain": [
       "AnnData object with n_obs × n_vars = 15372 × 3324\n",
       "    obs: 'barcode', 'library', 'total_counts', 'pct_counts_mito', 'conditions', 'conditions2', 'preservation', 'method', 'doublet_score', 'potential_doublet', 'top3pct_dbtl_score', 'top5pct_dbtl_score', 'top10pct_dbtl_score', 'no_dblt', 'n_counts', 'cell_typist_pred_low', 'leiden_res_0.8', 'cell_typist_pred_high', 'cell_typist_pred_low_no_voting', 'cell_type', 'S_score', 'G2M_score', 'phase', 'palantir_pseudotime', 'palantir_entropy'\n",
       "    var: 'n_counts', 'n_cells', 'highly_variable', 'means', 'dispersions', 'dispersions_norm', 'mean', 'std'\n",
       "    uns: 'DM_EigenValues', 'cell_type_colors', 'conditions2_colors', 'draw_graph', 'hvg', 'log1p', 'method_colors', 'neighbors', 'palantir_waypoints', 'pca', 'preservation_colors', 'umap'\n",
       "    obsm: 'DM_EigenVectors', 'DM_EigenVectors_multiscaled', 'X_draw_graph_fa', 'X_pca', 'X_pca_harmony', 'X_umap', 'palantir_fate_probabilities'\n",
       "    varm: 'PCs'\n",
       "    layers: 'MAGIC_imputed_data'\n",
       "    obsp: 'DM_Kernel', 'DM_Similarity', 'connectivities', 'distances'"
      ]
     },
     "execution_count": 58,
     "metadata": {},
     "output_type": "execute_result"
    }
   ],
   "source": [
    "adatag"
   ]
  },
  {
   "cell_type": "code",
   "execution_count": null,
   "metadata": {
    "scrolled": true
   },
   "outputs": [],
   "source": [
    "adatag.X = adatag.layers['X_lin_cptt']"
   ]
  },
  {
   "cell_type": "code",
   "execution_count": 59,
   "metadata": {},
   "outputs": [],
   "source": [
    "G  = adatag.obsp['connectivities'] #selecting the graph"
   ]
  },
  {
   "cell_type": "code",
   "execution_count": 6,
   "metadata": {},
   "outputs": [
    {
     "data": {
      "text/plain": [
       "array([ 112.40536,  280.8118 ,  512.42334, ..., -458.6493 , -341.89734,\n",
       "       -386.73096], dtype=float32)"
      ]
     },
     "execution_count": 6,
     "metadata": {},
     "output_type": "execute_result"
    }
   ],
   "source": [
    "adatag.X.sum(axis=1)"
   ]
  },
  {
   "cell_type": "markdown",
   "metadata": {},
   "source": [
    "# Leiden"
   ]
  },
  {
   "cell_type": "code",
   "execution_count": 60,
   "metadata": {},
   "outputs": [
    {
     "name": "stdout",
     "output_type": "stream",
     "text": [
      "8\n",
      "8\n",
      "10\n",
      "11\n",
      "13\n"
     ]
    }
   ],
   "source": [
    "cg = {}\n",
    "for i in [0.2, 0.4, 0.6, 0.8, 1]:\n",
    "    mock = adatag.copy()\n",
    "    sc.tl.leiden(mock, resolution=i)\n",
    "    l = list(mock.obs['leiden'])\n",
    "    cg['leiden_res_%.1f'%i] = l\n",
    "    print(len(set(l)))"
   ]
  },
  {
   "cell_type": "markdown",
   "metadata": {},
   "source": [
    "# Phenograph clustering"
   ]
  },
  {
   "cell_type": "code",
   "execution_count": 16,
   "metadata": {},
   "outputs": [
    {
     "name": "stdout",
     "output_type": "stream",
     "text": [
      "Finding 15 nearest neighbors using minkowski metric and 'auto' algorithm\n",
      "Neighbors computed in 0.8490519523620605 seconds\n",
      "Jaccard graph constructed in 2.0189030170440674 seconds\n",
      "Running Leiden optimization\n",
      "Leiden completed in 0.7507390975952148 seconds\n",
      "Sorting communities by size, please wait ...\n",
      "PhenoGraph completed in 4.803226947784424 seconds\n",
      "11\n",
      "Finding 15 nearest neighbors using minkowski metric and 'auto' algorithm\n",
      "Neighbors computed in 0.680574893951416 seconds\n",
      "Jaccard graph constructed in 1.5680768489837646 seconds\n",
      "Running Leiden optimization\n",
      "Leiden completed in 0.9712340831756592 seconds\n",
      "Sorting communities by size, please wait ...\n",
      "PhenoGraph completed in 4.274828910827637 seconds\n",
      "14\n",
      "Finding 15 nearest neighbors using minkowski metric and 'auto' algorithm\n",
      "Neighbors computed in 0.6810421943664551 seconds\n",
      "Jaccard graph constructed in 1.5630178451538086 seconds\n",
      "Running Leiden optimization\n",
      "Leiden completed in 0.9655230045318604 seconds\n",
      "Sorting communities by size, please wait ...\n",
      "PhenoGraph completed in 4.275840997695923 seconds\n",
      "19\n",
      "Finding 15 nearest neighbors using minkowski metric and 'auto' algorithm\n",
      "Neighbors computed in 0.6827731132507324 seconds\n",
      "Jaccard graph constructed in 1.5786199569702148 seconds\n",
      "Running Leiden optimization\n",
      "Leiden completed in 0.7431252002716064 seconds\n",
      "Sorting communities by size, please wait ...\n",
      "PhenoGraph completed in 4.0650880336761475 seconds\n",
      "20\n"
     ]
    }
   ],
   "source": [
    "# Clustering using PhenoGraph\n",
    "for i in [0.1, 0.2, 0.3, 0.4]:\n",
    "    sc.external.tl.phenograph(adatag, clustering_algo='leiden', k=15, jaccard=True, primary_metric='euclidean', \n",
    "                          resolution_parameter = i)\n",
    "    l = list(adatag.obs['pheno_leiden'])\n",
    "    cg['pheno_leiden_res_%.1f'%i] = l\n",
    "    print(len(set(l)))"
   ]
  },
  {
   "cell_type": "markdown",
   "metadata": {},
   "source": [
    "# Spectral clustering (choose number of clusters)"
   ]
  },
  {
   "cell_type": "code",
   "execution_count": 61,
   "metadata": {},
   "outputs": [
    {
     "name": "stdout",
     "output_type": "stream",
     "text": [
      "sp_cl_9\n",
      "sp_cl_9\n",
      "sp_cl_10\n",
      "sp_cl_10\n",
      "sp_cl_11\n",
      "sp_cl_11\n",
      "sp_cl_12\n",
      "sp_cl_12\n",
      "sp_cl_13\n",
      "sp_cl_13\n"
     ]
    }
   ],
   "source": [
    "# this one is much slower\n",
    "for i in [\n",
    "    9,10,11,12,13]:\n",
    "    key = 'sp_cl_%d'%(i)\n",
    "    print(key)\n",
    "    cg[key] = list(srz.spec_clust(G,i).astype(str))\n",
    "    print(key)"
   ]
  },
  {
   "cell_type": "markdown",
   "metadata": {},
   "source": [
    "# Append result to the same SPRING plot"
   ]
  },
  {
   "cell_type": "code",
   "execution_count": 62,
   "metadata": {},
   "outputs": [],
   "source": [
    "# load current color dictionary\n",
    "cg0 = srz.read_cell_groupings(project_dir+plot_name+'/categorical_coloring_data.json')\n",
    "\n",
    "\n",
    "# color dictionary of dictionaries\n",
    "cdd = {key:value['label_colors'] for key,value in cg0.items()}\n"
   ]
  },
  {
   "cell_type": "code",
   "execution_count": 63,
   "metadata": {},
   "outputs": [],
   "source": [
    "cg = {key:list(np.array(value).astype(str)) for key,value in cg.items()}"
   ]
  },
  {
   "cell_type": "code",
   "execution_count": 64,
   "metadata": {},
   "outputs": [
    {
     "data": {
      "text/plain": [
       "'/Users/karolisgoda/Library/CloudStorage/GoogleDrive-karolisgoda@gmail.com/My Drive/MF/data/SPRING_dev-master/data/CD34_good/clean_good_sc_hvg/palantir_cell_cycle/categorical_coloring_data.json'"
      ]
     },
     "execution_count": 64,
     "metadata": {},
     "output_type": "execute_result"
    }
   ],
   "source": [
    "project_dir+plot_name+'/categorical_coloring_data.json'"
   ]
  },
  {
   "cell_type": "code",
   "execution_count": 65,
   "metadata": {},
   "outputs": [],
   "source": [
    "# append categorical colortrack\n",
    "srz.append_cell_groupings(project_dir+plot_name,cg,colordd=cdd)"
   ]
  },
  {
   "cell_type": "code",
   "execution_count": 67,
   "metadata": {},
   "outputs": [],
   "source": [
    "for key, value in cg.items():\n",
    "    adatag.obs[key] = cg[key]"
   ]
  },
  {
   "cell_type": "code",
   "execution_count": 68,
   "metadata": {},
   "outputs": [],
   "source": [
    "obs1 = adatag.obs"
   ]
  },
  {
   "cell_type": "code",
   "execution_count": 70,
   "metadata": {},
   "outputs": [
    {
     "name": "stdout",
     "output_type": "stream",
     "text": [
      "backups/obs_info_sc_hvg_cell_cycle_cluster_15372x34_231129_15h28\n"
     ]
    }
   ],
   "source": [
    "#save obs with clusters\n",
    "\n",
    "fname = 'backups/obs_info_sc_hvg_cell_cycle_cluster_%dx%d_%s'%(obs1.shape[0],obs1.shape[1],rz.now())\n",
    "print(fname)\n",
    "rz.save_df(obs1,fname)"
   ]
  },
  {
   "cell_type": "code",
   "execution_count": null,
   "metadata": {},
   "outputs": [],
   "source": []
  }
 ],
 "metadata": {
  "kernelspec": {
   "display_name": "Python 3 (ipykernel)",
   "language": "python",
   "name": "python3"
  },
  "language_info": {
   "codemirror_mode": {
    "name": "ipython",
    "version": 3
   },
   "file_extension": ".py",
   "mimetype": "text/x-python",
   "name": "python",
   "nbconvert_exporter": "python",
   "pygments_lexer": "ipython3",
   "version": "3.11.7"
  }
 },
 "nbformat": 4,
 "nbformat_minor": 4
}
